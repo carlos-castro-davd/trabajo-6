{
 "cells": [
  {
   "cell_type": "markdown",
   "id": "excellent-politics",
   "metadata": {},
   "source": [
    "# Modelo\n",
    "-----\n",
    "## Modelo clasificador basado en técnicas lineales & árboles de decisión. \n",
    "Utilizaremos este modelo como base de comparación con modelos posteriores más complejos. \n",
    "\n",
    "Nos servirá este modelo también para detectar las variables más significativas para la detección de fraudes.\n",
    "\n",
    "La entrada de este modelo será el dataset 'prepared' con los datos ya preparados para su consumición."
   ]
  },
  {
   "cell_type": "code",
   "execution_count": 146,
   "metadata": {},
   "outputs": [
    {
     "name": "stdout",
     "output_type": "stream",
     "text": [
      "Requirement already satisfied: imblearn in c:\\users\\juani\\anaconda3\\lib\\site-packages (0.0)\n",
      "Requirement already satisfied: imbalanced-learn in c:\\users\\juani\\anaconda3\\lib\\site-packages (from imblearn) (0.8.1)\n",
      "Requirement already satisfied: joblib>=0.11 in c:\\users\\juani\\anaconda3\\lib\\site-packages (from imbalanced-learn->imblearn) (1.0.1)\n",
      "Requirement already satisfied: scikit-learn>=0.24 in c:\\users\\juani\\anaconda3\\lib\\site-packages (from imbalanced-learn->imblearn) (0.24.0)\n",
      "Requirement already satisfied: scipy>=0.19.1 in c:\\users\\juani\\anaconda3\\lib\\site-packages (from imbalanced-learn->imblearn) (1.6.2)\n",
      "Requirement already satisfied: numpy>=1.13.3 in c:\\users\\juani\\anaconda3\\lib\\site-packages (from imbalanced-learn->imblearn) (1.20.1)\n",
      "Requirement already satisfied: threadpoolctl>=2.0.0 in c:\\users\\juani\\anaconda3\\lib\\site-packages (from scikit-learn>=0.24->imbalanced-learn->imblearn) (2.1.0)\n"
     ]
    }
   ],
   "source": [
    "!pip install imblearn"
   ]
  },
  {
   "cell_type": "code",
   "execution_count": 147,
   "id": "graphic-arlington",
   "metadata": {},
   "outputs": [],
   "source": [
    "import numpy as np\n",
    "import pandas as pd\n",
    "import matplotlib.pyplot as plt\n",
    "from sklearn.preprocessing import Normalizer, StandardScaler\n",
    "from sklearn.linear_model import LogisticRegression\n",
    "from sklearn.model_selection import train_test_split\n",
    "from sklearn.metrics import roc_auc_score, accuracy_score, f1_score, confusion_matrix, classification_report\n",
    "import seaborn as sns\n",
    "from sklearn import metrics\n",
    "from imblearn.over_sampling import SMOTE\n",
    "from sklearn.model_selection import train_test_split"
   ]
  },
  {
   "cell_type": "code",
   "execution_count": 148,
   "metadata": {},
   "outputs": [
    {
     "data": {
      "text/html": [
       "<div>\n",
       "<style scoped>\n",
       "    .dataframe tbody tr th:only-of-type {\n",
       "        vertical-align: middle;\n",
       "    }\n",
       "\n",
       "    .dataframe tbody tr th {\n",
       "        vertical-align: top;\n",
       "    }\n",
       "\n",
       "    .dataframe thead th {\n",
       "        text-align: right;\n",
       "    }\n",
       "</style>\n",
       "<table border=\"1\" class=\"dataframe\">\n",
       "  <thead>\n",
       "    <tr style=\"text-align: right;\">\n",
       "      <th></th>\n",
       "      <th>step</th>\n",
       "      <th>amount</th>\n",
       "      <th>nameOrig</th>\n",
       "      <th>oldbalanceOrg</th>\n",
       "      <th>newbalanceOrig</th>\n",
       "      <th>nameDest</th>\n",
       "      <th>oldbalanceDest</th>\n",
       "      <th>newbalanceDest</th>\n",
       "      <th>isFraud</th>\n",
       "      <th>isFlaggedFraud</th>\n",
       "      <th>CASH_IN</th>\n",
       "      <th>CASH_OUT</th>\n",
       "      <th>DEBIT</th>\n",
       "      <th>PAYMENT</th>\n",
       "      <th>TRANSFER</th>\n",
       "      <th>diffOrigen</th>\n",
       "      <th>diffDestino</th>\n",
       "      <th>cambioOrigen</th>\n",
       "      <th>cambioDestino</th>\n",
       "    </tr>\n",
       "  </thead>\n",
       "  <tbody>\n",
       "    <tr>\n",
       "      <th>0</th>\n",
       "      <td>1</td>\n",
       "      <td>9839.64</td>\n",
       "      <td>C1231006815</td>\n",
       "      <td>170136.00</td>\n",
       "      <td>160296.36</td>\n",
       "      <td>M1979787155</td>\n",
       "      <td>0.00</td>\n",
       "      <td>0.00</td>\n",
       "      <td>0</td>\n",
       "      <td>0</td>\n",
       "      <td>0</td>\n",
       "      <td>0</td>\n",
       "      <td>0</td>\n",
       "      <td>1</td>\n",
       "      <td>0</td>\n",
       "      <td>-9839.64</td>\n",
       "      <td>0.00</td>\n",
       "      <td>-0.057496</td>\n",
       "      <td>0.000010</td>\n",
       "    </tr>\n",
       "    <tr>\n",
       "      <th>1</th>\n",
       "      <td>1</td>\n",
       "      <td>1864.28</td>\n",
       "      <td>C1666544295</td>\n",
       "      <td>21249.00</td>\n",
       "      <td>19384.72</td>\n",
       "      <td>M2044282225</td>\n",
       "      <td>0.00</td>\n",
       "      <td>0.00</td>\n",
       "      <td>0</td>\n",
       "      <td>0</td>\n",
       "      <td>0</td>\n",
       "      <td>0</td>\n",
       "      <td>0</td>\n",
       "      <td>1</td>\n",
       "      <td>0</td>\n",
       "      <td>-1864.28</td>\n",
       "      <td>0.00</td>\n",
       "      <td>-0.083791</td>\n",
       "      <td>0.000010</td>\n",
       "    </tr>\n",
       "    <tr>\n",
       "      <th>2</th>\n",
       "      <td>1</td>\n",
       "      <td>181.00</td>\n",
       "      <td>C1305486145</td>\n",
       "      <td>181.00</td>\n",
       "      <td>0.00</td>\n",
       "      <td>C553264065</td>\n",
       "      <td>0.00</td>\n",
       "      <td>0.00</td>\n",
       "      <td>1</td>\n",
       "      <td>0</td>\n",
       "      <td>0</td>\n",
       "      <td>0</td>\n",
       "      <td>0</td>\n",
       "      <td>0</td>\n",
       "      <td>1</td>\n",
       "      <td>-181.00</td>\n",
       "      <td>0.00</td>\n",
       "      <td>-0.153251</td>\n",
       "      <td>0.000010</td>\n",
       "    </tr>\n",
       "    <tr>\n",
       "      <th>3</th>\n",
       "      <td>1</td>\n",
       "      <td>181.00</td>\n",
       "      <td>C840083671</td>\n",
       "      <td>181.00</td>\n",
       "      <td>0.00</td>\n",
       "      <td>C38997010</td>\n",
       "      <td>21182.00</td>\n",
       "      <td>0.00</td>\n",
       "      <td>1</td>\n",
       "      <td>0</td>\n",
       "      <td>0</td>\n",
       "      <td>1</td>\n",
       "      <td>0</td>\n",
       "      <td>0</td>\n",
       "      <td>0</td>\n",
       "      <td>-181.00</td>\n",
       "      <td>-21182.00</td>\n",
       "      <td>-0.153251</td>\n",
       "      <td>-0.954918</td>\n",
       "    </tr>\n",
       "    <tr>\n",
       "      <th>4</th>\n",
       "      <td>1</td>\n",
       "      <td>11668.14</td>\n",
       "      <td>C2048537720</td>\n",
       "      <td>41554.00</td>\n",
       "      <td>29885.86</td>\n",
       "      <td>M1230701703</td>\n",
       "      <td>0.00</td>\n",
       "      <td>0.00</td>\n",
       "      <td>0</td>\n",
       "      <td>0</td>\n",
       "      <td>0</td>\n",
       "      <td>0</td>\n",
       "      <td>0</td>\n",
       "      <td>1</td>\n",
       "      <td>0</td>\n",
       "      <td>-11668.14</td>\n",
       "      <td>0.00</td>\n",
       "      <td>-0.274196</td>\n",
       "      <td>0.000010</td>\n",
       "    </tr>\n",
       "    <tr>\n",
       "      <th>...</th>\n",
       "      <td>...</td>\n",
       "      <td>...</td>\n",
       "      <td>...</td>\n",
       "      <td>...</td>\n",
       "      <td>...</td>\n",
       "      <td>...</td>\n",
       "      <td>...</td>\n",
       "      <td>...</td>\n",
       "      <td>...</td>\n",
       "      <td>...</td>\n",
       "      <td>...</td>\n",
       "      <td>...</td>\n",
       "      <td>...</td>\n",
       "      <td>...</td>\n",
       "      <td>...</td>\n",
       "      <td>...</td>\n",
       "      <td>...</td>\n",
       "      <td>...</td>\n",
       "      <td>...</td>\n",
       "    </tr>\n",
       "    <tr>\n",
       "      <th>6362615</th>\n",
       "      <td>743</td>\n",
       "      <td>339682.13</td>\n",
       "      <td>C786484425</td>\n",
       "      <td>339682.13</td>\n",
       "      <td>0.00</td>\n",
       "      <td>C776919290</td>\n",
       "      <td>0.00</td>\n",
       "      <td>339682.13</td>\n",
       "      <td>1</td>\n",
       "      <td>0</td>\n",
       "      <td>0</td>\n",
       "      <td>1</td>\n",
       "      <td>0</td>\n",
       "      <td>0</td>\n",
       "      <td>0</td>\n",
       "      <td>-339682.13</td>\n",
       "      <td>339682.13</td>\n",
       "      <td>-0.997065</td>\n",
       "      <td>339.682140</td>\n",
       "    </tr>\n",
       "    <tr>\n",
       "      <th>6362616</th>\n",
       "      <td>743</td>\n",
       "      <td>6311409.28</td>\n",
       "      <td>C1529008245</td>\n",
       "      <td>6311409.28</td>\n",
       "      <td>0.00</td>\n",
       "      <td>C1881841831</td>\n",
       "      <td>0.00</td>\n",
       "      <td>0.00</td>\n",
       "      <td>1</td>\n",
       "      <td>0</td>\n",
       "      <td>0</td>\n",
       "      <td>0</td>\n",
       "      <td>0</td>\n",
       "      <td>0</td>\n",
       "      <td>1</td>\n",
       "      <td>-6311409.28</td>\n",
       "      <td>0.00</td>\n",
       "      <td>-0.999842</td>\n",
       "      <td>0.000010</td>\n",
       "    </tr>\n",
       "    <tr>\n",
       "      <th>6362617</th>\n",
       "      <td>743</td>\n",
       "      <td>6311409.28</td>\n",
       "      <td>C1162922333</td>\n",
       "      <td>6311409.28</td>\n",
       "      <td>0.00</td>\n",
       "      <td>C1365125890</td>\n",
       "      <td>68488.84</td>\n",
       "      <td>6379898.11</td>\n",
       "      <td>1</td>\n",
       "      <td>0</td>\n",
       "      <td>0</td>\n",
       "      <td>1</td>\n",
       "      <td>0</td>\n",
       "      <td>0</td>\n",
       "      <td>0</td>\n",
       "      <td>-6311409.28</td>\n",
       "      <td>6311409.27</td>\n",
       "      <td>-0.999842</td>\n",
       "      <td>90.826229</td>\n",
       "    </tr>\n",
       "    <tr>\n",
       "      <th>6362618</th>\n",
       "      <td>743</td>\n",
       "      <td>850002.52</td>\n",
       "      <td>C1685995037</td>\n",
       "      <td>850002.52</td>\n",
       "      <td>0.00</td>\n",
       "      <td>C2080388513</td>\n",
       "      <td>0.00</td>\n",
       "      <td>0.00</td>\n",
       "      <td>1</td>\n",
       "      <td>0</td>\n",
       "      <td>0</td>\n",
       "      <td>0</td>\n",
       "      <td>0</td>\n",
       "      <td>0</td>\n",
       "      <td>1</td>\n",
       "      <td>-850002.52</td>\n",
       "      <td>0.00</td>\n",
       "      <td>-0.998825</td>\n",
       "      <td>0.000010</td>\n",
       "    </tr>\n",
       "    <tr>\n",
       "      <th>6362619</th>\n",
       "      <td>743</td>\n",
       "      <td>850002.52</td>\n",
       "      <td>C1280323807</td>\n",
       "      <td>850002.52</td>\n",
       "      <td>0.00</td>\n",
       "      <td>C873221189</td>\n",
       "      <td>6510099.11</td>\n",
       "      <td>7360101.63</td>\n",
       "      <td>1</td>\n",
       "      <td>0</td>\n",
       "      <td>0</td>\n",
       "      <td>1</td>\n",
       "      <td>0</td>\n",
       "      <td>0</td>\n",
       "      <td>0</td>\n",
       "      <td>-850002.52</td>\n",
       "      <td>850002.52</td>\n",
       "      <td>-0.998825</td>\n",
       "      <td>0.130547</td>\n",
       "    </tr>\n",
       "  </tbody>\n",
       "</table>\n",
       "<p>6362620 rows × 19 columns</p>\n",
       "</div>"
      ],
      "text/plain": [
       "         step      amount     nameOrig  oldbalanceOrg  newbalanceOrig  \\\n",
       "0           1     9839.64  C1231006815      170136.00       160296.36   \n",
       "1           1     1864.28  C1666544295       21249.00        19384.72   \n",
       "2           1      181.00  C1305486145         181.00            0.00   \n",
       "3           1      181.00   C840083671         181.00            0.00   \n",
       "4           1    11668.14  C2048537720       41554.00        29885.86   \n",
       "...       ...         ...          ...            ...             ...   \n",
       "6362615   743   339682.13   C786484425      339682.13            0.00   \n",
       "6362616   743  6311409.28  C1529008245     6311409.28            0.00   \n",
       "6362617   743  6311409.28  C1162922333     6311409.28            0.00   \n",
       "6362618   743   850002.52  C1685995037      850002.52            0.00   \n",
       "6362619   743   850002.52  C1280323807      850002.52            0.00   \n",
       "\n",
       "            nameDest  oldbalanceDest  newbalanceDest  isFraud  isFlaggedFraud  \\\n",
       "0        M1979787155            0.00            0.00        0               0   \n",
       "1        M2044282225            0.00            0.00        0               0   \n",
       "2         C553264065            0.00            0.00        1               0   \n",
       "3          C38997010        21182.00            0.00        1               0   \n",
       "4        M1230701703            0.00            0.00        0               0   \n",
       "...              ...             ...             ...      ...             ...   \n",
       "6362615   C776919290            0.00       339682.13        1               0   \n",
       "6362616  C1881841831            0.00            0.00        1               0   \n",
       "6362617  C1365125890        68488.84      6379898.11        1               0   \n",
       "6362618  C2080388513            0.00            0.00        1               0   \n",
       "6362619   C873221189      6510099.11      7360101.63        1               0   \n",
       "\n",
       "         CASH_IN  CASH_OUT  DEBIT  PAYMENT  TRANSFER  diffOrigen  diffDestino  \\\n",
       "0              0         0      0        1         0    -9839.64         0.00   \n",
       "1              0         0      0        1         0    -1864.28         0.00   \n",
       "2              0         0      0        0         1     -181.00         0.00   \n",
       "3              0         1      0        0         0     -181.00    -21182.00   \n",
       "4              0         0      0        1         0   -11668.14         0.00   \n",
       "...          ...       ...    ...      ...       ...         ...          ...   \n",
       "6362615        0         1      0        0         0  -339682.13    339682.13   \n",
       "6362616        0         0      0        0         1 -6311409.28         0.00   \n",
       "6362617        0         1      0        0         0 -6311409.28   6311409.27   \n",
       "6362618        0         0      0        0         1  -850002.52         0.00   \n",
       "6362619        0         1      0        0         0  -850002.52    850002.52   \n",
       "\n",
       "         cambioOrigen  cambioDestino  \n",
       "0           -0.057496       0.000010  \n",
       "1           -0.083791       0.000010  \n",
       "2           -0.153251       0.000010  \n",
       "3           -0.153251      -0.954918  \n",
       "4           -0.274196       0.000010  \n",
       "...               ...            ...  \n",
       "6362615     -0.997065     339.682140  \n",
       "6362616     -0.999842       0.000010  \n",
       "6362617     -0.999842      90.826229  \n",
       "6362618     -0.998825       0.000010  \n",
       "6362619     -0.998825       0.130547  \n",
       "\n",
       "[6362620 rows x 19 columns]"
      ]
     },
     "execution_count": 148,
     "metadata": {},
     "output_type": "execute_result"
    }
   ],
   "source": [
    "df = pd.read_csv(\"../prep/prepared.csv\")\n",
    "df = df.drop(columns=['Unnamed: 0'])\n",
    "df"
   ]
  },
  {
   "cell_type": "markdown",
   "metadata": {},
   "source": [
    "# Modelo 1"
   ]
  },
  {
   "cell_type": "code",
   "execution_count": 149,
   "metadata": {},
   "outputs": [
    {
     "name": "stdout",
     "output_type": "stream",
     "text": [
      "Number transactions X_train dataset:  (4771965, 16)\n",
      "Number transactions y_train dataset:  (4771965,)\n",
      "Number transactions X_test dataset:  (1590655, 16)\n",
      "Number transactions y_test dataset:  (1590655,)\n"
     ]
    }
   ],
   "source": [
    "train, test = train_test_split(df)\n",
    "X_train = train.drop(columns=['isFraud','nameDest','nameOrig'])\n",
    "y_train = train['isFraud']\n",
    "X_test = test.drop(columns=['isFraud','nameDest','nameOrig'])\n",
    "y_test = test['isFraud']\n",
    "X_train\n",
    "\n",
    "print(\"Number transactions X_train dataset: \", X_train.shape)\n",
    "print(\"Number transactions y_train dataset: \", y_train.shape)\n",
    "print(\"Number transactions X_test dataset: \", X_test.shape)\n",
    "print(\"Number transactions y_test dataset: \", y_test.shape)"
   ]
  },
  {
   "cell_type": "code",
   "execution_count": 150,
   "metadata": {},
   "outputs": [
    {
     "name": "stdout",
     "output_type": "stream",
     "text": [
      "Before OverSampling, counts of label '1': 6127\n",
      "Before OverSampling, counts of label '0': 4765838 \n",
      "\n",
      "After OverSampling, the shape of train_X: (9531676, 16)\n",
      "After OverSampling, the shape of train_y: (9531676,) \n",
      "\n",
      "After OverSampling, counts of label '1': 4765838\n",
      "After OverSampling, counts of label '0': 4765838\n"
     ]
    }
   ],
   "source": [
    "print(\"Before OverSampling, counts of label '1': {}\".format(sum(y_train==1)))\n",
    "print(\"Before OverSampling, counts of label '0': {} \\n\".format(sum(y_train==0)))\n",
    "\n",
    "sm = SMOTE(random_state=2)\n",
    "X_train_res, y_train_res = sm.fit_resample(X_train, y_train.ravel())\n",
    "\n",
    "print('After OverSampling, the shape of train_X: {}'.format(X_train_res.shape))\n",
    "print('After OverSampling, the shape of train_y: {} \\n'.format(y_train_res.shape))\n",
    "\n",
    "print(\"After OverSampling, counts of label '1': {}\".format(sum(y_train_res==1)))\n",
    "print(\"After OverSampling, counts of label '0': {}\".format(sum(y_train_res==0)))"
   ]
  },
  {
   "cell_type": "code",
   "execution_count": 151,
   "metadata": {},
   "outputs": [],
   "source": [
    "lr1 = LogisticRegression(fit_intercept=True, penalty='l2', tol=1e-5, C=20, solver='lbfgs', max_iter=120,\n",
    "                       warm_start=True)\n",
    "lr_default = LogisticRegression()\n"
   ]
  },
  {
   "cell_type": "code",
   "execution_count": 152,
   "metadata": {},
   "outputs": [
    {
     "name": "stdout",
     "output_type": "stream",
     "text": [
      "accuracy in train: 0.9126621842364728\n",
      "accuracy in test: 0.9127988155822602\n"
     ]
    }
   ],
   "source": [
    "\n",
    "lr1.fit(X_train_res, y_train_res)\n",
    "preds_train = lr1.predict(X_train)\n",
    "preds_test = lr1.predict(X_test)\n",
    "print('accuracy in train:', accuracy_score(preds_train, y_train))\n",
    "print('accuracy in test:', accuracy_score(preds_test, y_test))"
   ]
  },
  {
   "cell_type": "code",
   "execution_count": 153,
   "metadata": {},
   "outputs": [
    {
     "data": {
      "text/plain": [
       "Text(0.5, 1.0, 'Accuracy Score: 0.9126621842364728')"
      ]
     },
     "execution_count": 153,
     "metadata": {},
     "output_type": "execute_result"
    },
    {
     "data": {
      "image/png": "[encoded data removed]",
      "text/plain": [
       "<Figure size 648x648 with 2 Axes>"
      ]
     },
     "metadata": {
      "needs_background": "light"
     },
     "output_type": "display_data"
    }
   ],
   "source": [
    "cmtrain1 = metrics.confusion_matrix(preds_train, y_train)\n",
    "plt.figure(figsize=(9,9))\n",
    "sns.heatmap(cmtrain1, annot=True, fmt=\".3f\", linewidths=.5, square = True, cmap = 'Blues_r')\n",
    "plt.ylabel('Actual label')\n",
    "plt.xlabel('Predicted label')\n",
    "all_sample_title = 'Accuracy Score: {0}'.format(accuracy_score(preds_train, y_train))\n",
    "plt.title(all_sample_title, size = 15)"
   ]
  },
  {
   "cell_type": "code",
   "execution_count": 154,
   "metadata": {},
   "outputs": [
    {
     "data": {
      "text/plain": [
       "Text(0.5, 1.0, 'Accuracy Score: 0.9127988155822602')"
      ]
     },
     "execution_count": 154,
     "metadata": {},
     "output_type": "execute_result"
    },
    {
     "data": {
      "image/png": "[encoded data removed]",
      "text/plain": [
       "<Figure size 648x648 with 2 Axes>"
      ]
     },
     "metadata": {
      "needs_background": "light"
     },
     "output_type": "display_data"
    }
   ],
   "source": [
    "cmtest1 = metrics.confusion_matrix(y_test, preds_test)\n",
    "plt.figure(figsize=(9,9))\n",
    "sns.heatmap(cmtest1, annot=True, fmt=\".3f\", linewidths=.5, square = True, cmap = 'Blues_r')\n",
    "plt.ylabel('Actual label')\n",
    "plt.xlabel('Predicted label')\n",
    "all_sample_title = 'Accuracy Score: {0}'.format(accuracy_score(preds_test, y_test))\n",
    "plt.title(all_sample_title, size = 15)"
   ]
  },
  {
   "cell_type": "markdown",
   "metadata": {},
   "source": [
    "# Modelo 2"
   ]
  },
  {
   "cell_type": "code",
   "execution_count": 155,
   "metadata": {},
   "outputs": [
    {
     "data": {
      "text/html": [
       "<div>\n",
       "<style scoped>\n",
       "    .dataframe tbody tr th:only-of-type {\n",
       "        vertical-align: middle;\n",
       "    }\n",
       "\n",
       "    .dataframe tbody tr th {\n",
       "        vertical-align: top;\n",
       "    }\n",
       "\n",
       "    .dataframe thead th {\n",
       "        text-align: right;\n",
       "    }\n",
       "</style>\n",
       "<table border=\"1\" class=\"dataframe\">\n",
       "  <thead>\n",
       "    <tr style=\"text-align: right;\">\n",
       "      <th></th>\n",
       "      <th>step</th>\n",
       "      <th>amount</th>\n",
       "      <th>oldbalanceOrg</th>\n",
       "      <th>newbalanceOrig</th>\n",
       "      <th>oldbalanceDest</th>\n",
       "      <th>newbalanceDest</th>\n",
       "      <th>isFlaggedFraud</th>\n",
       "      <th>CASH_IN</th>\n",
       "      <th>CASH_OUT</th>\n",
       "      <th>DEBIT</th>\n",
       "      <th>PAYMENT</th>\n",
       "      <th>TRANSFER</th>\n",
       "      <th>diffOrigen</th>\n",
       "      <th>diffDestino</th>\n",
       "      <th>cambioOrigen</th>\n",
       "      <th>cambioDestino</th>\n",
       "    </tr>\n",
       "  </thead>\n",
       "  <tbody>\n",
       "    <tr>\n",
       "      <th>3098471</th>\n",
       "      <td>235</td>\n",
       "      <td>69761.85</td>\n",
       "      <td>121884.0</td>\n",
       "      <td>52122.15</td>\n",
       "      <td>0.00</td>\n",
       "      <td>69761.85</td>\n",
       "      <td>0</td>\n",
       "      <td>0</td>\n",
       "      <td>1</td>\n",
       "      <td>0</td>\n",
       "      <td>0</td>\n",
       "      <td>0</td>\n",
       "      <td>-69761.85</td>\n",
       "      <td>69761.85</td>\n",
       "      <td>-0.567705</td>\n",
       "      <td>69.761860</td>\n",
       "    </tr>\n",
       "    <tr>\n",
       "      <th>1393882</th>\n",
       "      <td>139</td>\n",
       "      <td>29896.98</td>\n",
       "      <td>21533.0</td>\n",
       "      <td>0.00</td>\n",
       "      <td>3509857.64</td>\n",
       "      <td>3539754.62</td>\n",
       "      <td>0</td>\n",
       "      <td>0</td>\n",
       "      <td>1</td>\n",
       "      <td>0</td>\n",
       "      <td>0</td>\n",
       "      <td>0</td>\n",
       "      <td>-21533.00</td>\n",
       "      <td>29896.98</td>\n",
       "      <td>-0.955620</td>\n",
       "      <td>0.008516</td>\n",
       "    </tr>\n",
       "    <tr>\n",
       "      <th>950963</th>\n",
       "      <td>44</td>\n",
       "      <td>66603.14</td>\n",
       "      <td>157561.0</td>\n",
       "      <td>90957.86</td>\n",
       "      <td>391.23</td>\n",
       "      <td>1410.22</td>\n",
       "      <td>0</td>\n",
       "      <td>0</td>\n",
       "      <td>1</td>\n",
       "      <td>0</td>\n",
       "      <td>0</td>\n",
       "      <td>0</td>\n",
       "      <td>-66603.14</td>\n",
       "      <td>1018.99</td>\n",
       "      <td>-0.420047</td>\n",
       "      <td>0.732445</td>\n",
       "    </tr>\n",
       "    <tr>\n",
       "      <th>1639661</th>\n",
       "      <td>157</td>\n",
       "      <td>222315.18</td>\n",
       "      <td>18996.0</td>\n",
       "      <td>0.00</td>\n",
       "      <td>198083.88</td>\n",
       "      <td>420399.06</td>\n",
       "      <td>0</td>\n",
       "      <td>0</td>\n",
       "      <td>1</td>\n",
       "      <td>0</td>\n",
       "      <td>0</td>\n",
       "      <td>0</td>\n",
       "      <td>-18996.00</td>\n",
       "      <td>222315.18</td>\n",
       "      <td>-0.949989</td>\n",
       "      <td>1.116691</td>\n",
       "    </tr>\n",
       "    <tr>\n",
       "      <th>3831911</th>\n",
       "      <td>282</td>\n",
       "      <td>209040.96</td>\n",
       "      <td>49653.0</td>\n",
       "      <td>0.00</td>\n",
       "      <td>2567202.47</td>\n",
       "      <td>2776243.42</td>\n",
       "      <td>0</td>\n",
       "      <td>0</td>\n",
       "      <td>1</td>\n",
       "      <td>0</td>\n",
       "      <td>0</td>\n",
       "      <td>0</td>\n",
       "      <td>-49653.00</td>\n",
       "      <td>209040.95</td>\n",
       "      <td>-0.980258</td>\n",
       "      <td>0.081396</td>\n",
       "    </tr>\n",
       "    <tr>\n",
       "      <th>...</th>\n",
       "      <td>...</td>\n",
       "      <td>...</td>\n",
       "      <td>...</td>\n",
       "      <td>...</td>\n",
       "      <td>...</td>\n",
       "      <td>...</td>\n",
       "      <td>...</td>\n",
       "      <td>...</td>\n",
       "      <td>...</td>\n",
       "      <td>...</td>\n",
       "      <td>...</td>\n",
       "      <td>...</td>\n",
       "      <td>...</td>\n",
       "      <td>...</td>\n",
       "      <td>...</td>\n",
       "      <td>...</td>\n",
       "    </tr>\n",
       "    <tr>\n",
       "      <th>6277554</th>\n",
       "      <td>640</td>\n",
       "      <td>91353.55</td>\n",
       "      <td>0.0</td>\n",
       "      <td>0.00</td>\n",
       "      <td>815982.68</td>\n",
       "      <td>907336.23</td>\n",
       "      <td>0</td>\n",
       "      <td>0</td>\n",
       "      <td>1</td>\n",
       "      <td>0</td>\n",
       "      <td>0</td>\n",
       "      <td>0</td>\n",
       "      <td>0.00</td>\n",
       "      <td>91353.55</td>\n",
       "      <td>0.000010</td>\n",
       "      <td>0.111818</td>\n",
       "    </tr>\n",
       "    <tr>\n",
       "      <th>5622176</th>\n",
       "      <td>395</td>\n",
       "      <td>182608.33</td>\n",
       "      <td>0.0</td>\n",
       "      <td>0.00</td>\n",
       "      <td>922304.61</td>\n",
       "      <td>1104912.94</td>\n",
       "      <td>0</td>\n",
       "      <td>0</td>\n",
       "      <td>1</td>\n",
       "      <td>0</td>\n",
       "      <td>0</td>\n",
       "      <td>0</td>\n",
       "      <td>0.00</td>\n",
       "      <td>182608.33</td>\n",
       "      <td>0.000010</td>\n",
       "      <td>0.197777</td>\n",
       "    </tr>\n",
       "    <tr>\n",
       "      <th>2497828</th>\n",
       "      <td>204</td>\n",
       "      <td>60553.18</td>\n",
       "      <td>31658.0</td>\n",
       "      <td>0.00</td>\n",
       "      <td>0.00</td>\n",
       "      <td>60553.18</td>\n",
       "      <td>0</td>\n",
       "      <td>0</td>\n",
       "      <td>1</td>\n",
       "      <td>0</td>\n",
       "      <td>0</td>\n",
       "      <td>0</td>\n",
       "      <td>-31658.00</td>\n",
       "      <td>60553.18</td>\n",
       "      <td>-0.969379</td>\n",
       "      <td>60.553190</td>\n",
       "    </tr>\n",
       "    <tr>\n",
       "      <th>4945056</th>\n",
       "      <td>351</td>\n",
       "      <td>287690.96</td>\n",
       "      <td>0.0</td>\n",
       "      <td>0.00</td>\n",
       "      <td>6305317.58</td>\n",
       "      <td>6593008.54</td>\n",
       "      <td>0</td>\n",
       "      <td>0</td>\n",
       "      <td>1</td>\n",
       "      <td>0</td>\n",
       "      <td>0</td>\n",
       "      <td>0</td>\n",
       "      <td>0.00</td>\n",
       "      <td>287690.96</td>\n",
       "      <td>0.000010</td>\n",
       "      <td>0.045619</td>\n",
       "    </tr>\n",
       "    <tr>\n",
       "      <th>3554051</th>\n",
       "      <td>260</td>\n",
       "      <td>69734.83</td>\n",
       "      <td>7178.0</td>\n",
       "      <td>0.00</td>\n",
       "      <td>1029027.84</td>\n",
       "      <td>1098762.67</td>\n",
       "      <td>0</td>\n",
       "      <td>0</td>\n",
       "      <td>1</td>\n",
       "      <td>0</td>\n",
       "      <td>0</td>\n",
       "      <td>0</td>\n",
       "      <td>-7178.00</td>\n",
       "      <td>69734.83</td>\n",
       "      <td>-0.877719</td>\n",
       "      <td>0.067702</td>\n",
       "    </tr>\n",
       "  </tbody>\n",
       "</table>\n",
       "<p>1678125 rows × 16 columns</p>\n",
       "</div>"
      ],
      "text/plain": [
       "         step     amount  oldbalanceOrg  newbalanceOrig  oldbalanceDest  \\\n",
       "3098471   235   69761.85       121884.0        52122.15            0.00   \n",
       "1393882   139   29896.98        21533.0            0.00      3509857.64   \n",
       "950963     44   66603.14       157561.0        90957.86          391.23   \n",
       "1639661   157  222315.18        18996.0            0.00       198083.88   \n",
       "3831911   282  209040.96        49653.0            0.00      2567202.47   \n",
       "...       ...        ...            ...             ...             ...   \n",
       "6277554   640   91353.55            0.0            0.00       815982.68   \n",
       "5622176   395  182608.33            0.0            0.00       922304.61   \n",
       "2497828   204   60553.18        31658.0            0.00            0.00   \n",
       "4945056   351  287690.96            0.0            0.00      6305317.58   \n",
       "3554051   260   69734.83         7178.0            0.00      1029027.84   \n",
       "\n",
       "         newbalanceDest  isFlaggedFraud  CASH_IN  CASH_OUT  DEBIT  PAYMENT  \\\n",
       "3098471        69761.85               0        0         1      0        0   \n",
       "1393882      3539754.62               0        0         1      0        0   \n",
       "950963          1410.22               0        0         1      0        0   \n",
       "1639661       420399.06               0        0         1      0        0   \n",
       "3831911      2776243.42               0        0         1      0        0   \n",
       "...                 ...             ...      ...       ...    ...      ...   \n",
       "6277554       907336.23               0        0         1      0        0   \n",
       "5622176      1104912.94               0        0         1      0        0   \n",
       "2497828        60553.18               0        0         1      0        0   \n",
       "4945056      6593008.54               0        0         1      0        0   \n",
       "3554051      1098762.67               0        0         1      0        0   \n",
       "\n",
       "         TRANSFER  diffOrigen  diffDestino  cambioOrigen  cambioDestino  \n",
       "3098471         0   -69761.85     69761.85     -0.567705      69.761860  \n",
       "1393882         0   -21533.00     29896.98     -0.955620       0.008516  \n",
       "950963          0   -66603.14      1018.99     -0.420047       0.732445  \n",
       "1639661         0   -18996.00    222315.18     -0.949989       1.116691  \n",
       "3831911         0   -49653.00    209040.95     -0.980258       0.081396  \n",
       "...           ...         ...          ...           ...            ...  \n",
       "6277554         0        0.00     91353.55      0.000010       0.111818  \n",
       "5622176         0        0.00    182608.33      0.000010       0.197777  \n",
       "2497828         0   -31658.00     60553.18     -0.969379      60.553190  \n",
       "4945056         0        0.00    287690.96      0.000010       0.045619  \n",
       "3554051         0    -7178.00     69734.83     -0.877719       0.067702  \n",
       "\n",
       "[1678125 rows x 16 columns]"
      ]
     },
     "execution_count": 155,
     "metadata": {},
     "output_type": "execute_result"
    }
   ],
   "source": [
    "train, test = train_test_split(df[df.CASH_OUT==1])\n",
    "X_train = train.drop(columns=['isFraud','nameDest','nameOrig'])\n",
    "y_train = train['isFraud']\n",
    "X_test = test.drop(columns=['isFraud','nameDest','nameOrig'])\n",
    "y_test = test['isFraud']\n",
    "X_train"
   ]
  },
  {
   "cell_type": "code",
   "execution_count": 156,
   "metadata": {},
   "outputs": [
    {
     "name": "stdout",
     "output_type": "stream",
     "text": [
      "Before OverSampling, counts of label '1': 3041\n",
      "Before OverSampling, counts of label '0': 1675084 \n",
      "\n",
      "After OverSampling, the shape of train_X: (3350168, 16)\n",
      "After OverSampling, the shape of train_y: (3350168,) \n",
      "\n",
      "After OverSampling, counts of label '1': 1675084\n",
      "After OverSampling, counts of label '0': 1675084\n"
     ]
    }
   ],
   "source": [
    "print(\"Before OverSampling, counts of label '1': {}\".format(sum(y_train==1)))\n",
    "print(\"Before OverSampling, counts of label '0': {} \\n\".format(sum(y_train==0)))\n",
    "\n",
    "sm = SMOTE(random_state=2)\n",
    "X_train_res, y_train_res = sm.fit_resample(X_train, y_train.ravel())\n",
    "\n",
    "print('After OverSampling, the shape of train_X: {}'.format(X_train_res.shape))\n",
    "print('After OverSampling, the shape of train_y: {} \\n'.format(y_train_res.shape))\n",
    "\n",
    "print(\"After OverSampling, counts of label '1': {}\".format(sum(y_train_res==1)))\n",
    "print(\"After OverSampling, counts of label '0': {}\".format(sum(y_train_res==0)))"
   ]
  },
  {
   "cell_type": "code",
   "execution_count": 157,
   "metadata": {},
   "outputs": [],
   "source": [
    "lr2 = LogisticRegression(fit_intercept=True, penalty='l2', tol=1e-5, C=20, solver='lbfgs', max_iter=120,\n",
    "                       warm_start=True)\n",
    "lr_default = LogisticRegression()\n"
   ]
  },
  {
   "cell_type": "code",
   "execution_count": 158,
   "metadata": {},
   "outputs": [
    {
     "name": "stdout",
     "output_type": "stream",
     "text": [
      "accuracy in train: 0.9646248044692738\n",
      "accuracy in test: 0.9645550837988827\n"
     ]
    }
   ],
   "source": [
    "\n",
    "lr2.fit(X_train_res, y_train_res)\n",
    "preds_train = lr2.predict(X_train)\n",
    "preds_test = lr2.predict(X_test)\n",
    "print('accuracy in train:', accuracy_score(preds_train, y_train))\n",
    "print('accuracy in test:', accuracy_score(preds_test, y_test))"
   ]
  },
  {
   "cell_type": "code",
   "execution_count": 159,
   "metadata": {},
   "outputs": [
    {
     "data": {
      "text/plain": [
       "Text(0.5, 1.0, 'Accuracy Score: 0.9646248044692738')"
      ]
     },
     "execution_count": 159,
     "metadata": {},
     "output_type": "execute_result"
    },
    {
     "data": {
      "image/png": "[encoded data removed]",
      "text/plain": [
       "<Figure size 648x648 with 2 Axes>"
      ]
     },
     "metadata": {
      "needs_background": "light"
     },
     "output_type": "display_data"
    }
   ],
   "source": [
    "cmtrain2 = metrics.confusion_matrix(preds_train, y_train)\n",
    "plt.figure(figsize=(9,9))\n",
    "sns.heatmap(cm, annot=True, fmt=\".3f\", linewidths=.5, square = True, cmap = 'Blues_r')\n",
    "plt.ylabel('Actual label')\n",
    "plt.xlabel('Predicted label')\n",
    "all_sample_title = 'Accuracy Score: {0}'.format(accuracy_score(preds_train, y_train))\n",
    "plt.title(all_sample_title, size = 15)"
   ]
  },
  {
   "cell_type": "code",
   "execution_count": 160,
   "metadata": {},
   "outputs": [
    {
     "data": {
      "text/plain": [
       "Text(0.5, 1.0, 'Accuracy Score: 0.9645550837988827')"
      ]
     },
     "execution_count": 160,
     "metadata": {},
     "output_type": "execute_result"
    },
    {
     "data": {
      "image/png": "[encoded data removed]",
      "text/plain": [
       "<Figure size 648x648 with 2 Axes>"
      ]
     },
     "metadata": {
      "needs_background": "light"
     },
     "output_type": "display_data"
    }
   ],
   "source": [
    "cmtest2 = metrics.confusion_matrix(y_test, preds_test)\n",
    "plt.figure(figsize=(9,9))\n",
    "sns.heatmap(cmtest2, annot=True, fmt=\".3f\", linewidths=.5, square = True, cmap = 'Blues_r')\n",
    "plt.ylabel('Actual label')\n",
    "plt.xlabel('Predicted label')\n",
    "all_sample_title = 'Accuracy Score: {0}'.format(accuracy_score(preds_test, y_test))\n",
    "plt.title(all_sample_title, size = 15)"
   ]
  },
  {
   "cell_type": "markdown",
   "metadata": {},
   "source": [
    "# Modelo 3"
   ]
  },
  {
   "cell_type": "code",
   "execution_count": 161,
   "metadata": {},
   "outputs": [
    {
     "data": {
      "text/html": [
       "<div>\n",
       "<style scoped>\n",
       "    .dataframe tbody tr th:only-of-type {\n",
       "        vertical-align: middle;\n",
       "    }\n",
       "\n",
       "    .dataframe tbody tr th {\n",
       "        vertical-align: top;\n",
       "    }\n",
       "\n",
       "    .dataframe thead th {\n",
       "        text-align: right;\n",
       "    }\n",
       "</style>\n",
       "<table border=\"1\" class=\"dataframe\">\n",
       "  <thead>\n",
       "    <tr style=\"text-align: right;\">\n",
       "      <th></th>\n",
       "      <th>step</th>\n",
       "      <th>amount</th>\n",
       "      <th>oldbalanceOrg</th>\n",
       "      <th>newbalanceOrig</th>\n",
       "      <th>oldbalanceDest</th>\n",
       "      <th>newbalanceDest</th>\n",
       "      <th>isFlaggedFraud</th>\n",
       "      <th>CASH_IN</th>\n",
       "      <th>CASH_OUT</th>\n",
       "      <th>DEBIT</th>\n",
       "      <th>PAYMENT</th>\n",
       "      <th>TRANSFER</th>\n",
       "      <th>diffOrigen</th>\n",
       "      <th>diffDestino</th>\n",
       "      <th>cambioOrigen</th>\n",
       "      <th>cambioDestino</th>\n",
       "    </tr>\n",
       "  </thead>\n",
       "  <tbody>\n",
       "    <tr>\n",
       "      <th>2730813</th>\n",
       "      <td>212</td>\n",
       "      <td>1588629.84</td>\n",
       "      <td>447.00</td>\n",
       "      <td>0.0</td>\n",
       "      <td>0.00</td>\n",
       "      <td>1588629.84</td>\n",
       "      <td>0</td>\n",
       "      <td>0</td>\n",
       "      <td>0</td>\n",
       "      <td>0</td>\n",
       "      <td>0</td>\n",
       "      <td>1</td>\n",
       "      <td>-447.00</td>\n",
       "      <td>1588629.84</td>\n",
       "      <td>-0.308908</td>\n",
       "      <td>1588.629850</td>\n",
       "    </tr>\n",
       "    <tr>\n",
       "      <th>2507178</th>\n",
       "      <td>205</td>\n",
       "      <td>36130.45</td>\n",
       "      <td>0.00</td>\n",
       "      <td>0.0</td>\n",
       "      <td>62137.86</td>\n",
       "      <td>98268.31</td>\n",
       "      <td>0</td>\n",
       "      <td>0</td>\n",
       "      <td>0</td>\n",
       "      <td>0</td>\n",
       "      <td>0</td>\n",
       "      <td>1</td>\n",
       "      <td>0.00</td>\n",
       "      <td>36130.45</td>\n",
       "      <td>0.000010</td>\n",
       "      <td>0.572247</td>\n",
       "    </tr>\n",
       "    <tr>\n",
       "      <th>4348978</th>\n",
       "      <td>309</td>\n",
       "      <td>881336.20</td>\n",
       "      <td>667078.13</td>\n",
       "      <td>0.0</td>\n",
       "      <td>3154847.68</td>\n",
       "      <td>4036183.88</td>\n",
       "      <td>0</td>\n",
       "      <td>0</td>\n",
       "      <td>0</td>\n",
       "      <td>0</td>\n",
       "      <td>0</td>\n",
       "      <td>1</td>\n",
       "      <td>-667078.13</td>\n",
       "      <td>881336.20</td>\n",
       "      <td>-0.998503</td>\n",
       "      <td>0.279271</td>\n",
       "    </tr>\n",
       "    <tr>\n",
       "      <th>2485137</th>\n",
       "      <td>204</td>\n",
       "      <td>1499751.15</td>\n",
       "      <td>384186.49</td>\n",
       "      <td>0.0</td>\n",
       "      <td>14790402.71</td>\n",
       "      <td>16290153.85</td>\n",
       "      <td>0</td>\n",
       "      <td>0</td>\n",
       "      <td>0</td>\n",
       "      <td>0</td>\n",
       "      <td>0</td>\n",
       "      <td>1</td>\n",
       "      <td>-384186.49</td>\n",
       "      <td>1499751.14</td>\n",
       "      <td>-0.997404</td>\n",
       "      <td>0.101393</td>\n",
       "    </tr>\n",
       "    <tr>\n",
       "      <th>1185431</th>\n",
       "      <td>132</td>\n",
       "      <td>712422.81</td>\n",
       "      <td>336104.00</td>\n",
       "      <td>0.0</td>\n",
       "      <td>623887.51</td>\n",
       "      <td>1336310.31</td>\n",
       "      <td>0</td>\n",
       "      <td>0</td>\n",
       "      <td>0</td>\n",
       "      <td>0</td>\n",
       "      <td>0</td>\n",
       "      <td>1</td>\n",
       "      <td>-336104.00</td>\n",
       "      <td>712422.80</td>\n",
       "      <td>-0.997034</td>\n",
       "      <td>1.140082</td>\n",
       "    </tr>\n",
       "    <tr>\n",
       "      <th>...</th>\n",
       "      <td>...</td>\n",
       "      <td>...</td>\n",
       "      <td>...</td>\n",
       "      <td>...</td>\n",
       "      <td>...</td>\n",
       "      <td>...</td>\n",
       "      <td>...</td>\n",
       "      <td>...</td>\n",
       "      <td>...</td>\n",
       "      <td>...</td>\n",
       "      <td>...</td>\n",
       "      <td>...</td>\n",
       "      <td>...</td>\n",
       "      <td>...</td>\n",
       "      <td>...</td>\n",
       "      <td>...</td>\n",
       "    </tr>\n",
       "    <tr>\n",
       "      <th>2419620</th>\n",
       "      <td>202</td>\n",
       "      <td>92095.62</td>\n",
       "      <td>0.00</td>\n",
       "      <td>0.0</td>\n",
       "      <td>1388776.38</td>\n",
       "      <td>1480872.00</td>\n",
       "      <td>0</td>\n",
       "      <td>0</td>\n",
       "      <td>0</td>\n",
       "      <td>0</td>\n",
       "      <td>0</td>\n",
       "      <td>1</td>\n",
       "      <td>0.00</td>\n",
       "      <td>92095.62</td>\n",
       "      <td>0.000010</td>\n",
       "      <td>0.066267</td>\n",
       "    </tr>\n",
       "    <tr>\n",
       "      <th>5008212</th>\n",
       "      <td>353</td>\n",
       "      <td>212950.60</td>\n",
       "      <td>0.00</td>\n",
       "      <td>0.0</td>\n",
       "      <td>487361.65</td>\n",
       "      <td>700312.25</td>\n",
       "      <td>0</td>\n",
       "      <td>0</td>\n",
       "      <td>0</td>\n",
       "      <td>0</td>\n",
       "      <td>0</td>\n",
       "      <td>1</td>\n",
       "      <td>0.00</td>\n",
       "      <td>212950.60</td>\n",
       "      <td>0.000010</td>\n",
       "      <td>0.436051</td>\n",
       "    </tr>\n",
       "    <tr>\n",
       "      <th>4030955</th>\n",
       "      <td>299</td>\n",
       "      <td>598752.17</td>\n",
       "      <td>0.00</td>\n",
       "      <td>0.0</td>\n",
       "      <td>1338439.49</td>\n",
       "      <td>1937191.66</td>\n",
       "      <td>0</td>\n",
       "      <td>0</td>\n",
       "      <td>0</td>\n",
       "      <td>0</td>\n",
       "      <td>0</td>\n",
       "      <td>1</td>\n",
       "      <td>0.00</td>\n",
       "      <td>598752.17</td>\n",
       "      <td>0.000010</td>\n",
       "      <td>0.447017</td>\n",
       "    </tr>\n",
       "    <tr>\n",
       "      <th>4497120</th>\n",
       "      <td>325</td>\n",
       "      <td>662973.18</td>\n",
       "      <td>4060.00</td>\n",
       "      <td>0.0</td>\n",
       "      <td>0.00</td>\n",
       "      <td>662973.18</td>\n",
       "      <td>0</td>\n",
       "      <td>0</td>\n",
       "      <td>0</td>\n",
       "      <td>0</td>\n",
       "      <td>0</td>\n",
       "      <td>1</td>\n",
       "      <td>-4060.00</td>\n",
       "      <td>662973.18</td>\n",
       "      <td>-0.802370</td>\n",
       "      <td>662.973190</td>\n",
       "    </tr>\n",
       "    <tr>\n",
       "      <th>4582425</th>\n",
       "      <td>328</td>\n",
       "      <td>2132102.40</td>\n",
       "      <td>313693.62</td>\n",
       "      <td>0.0</td>\n",
       "      <td>3400143.68</td>\n",
       "      <td>5532246.08</td>\n",
       "      <td>0</td>\n",
       "      <td>0</td>\n",
       "      <td>0</td>\n",
       "      <td>0</td>\n",
       "      <td>0</td>\n",
       "      <td>1</td>\n",
       "      <td>-313693.62</td>\n",
       "      <td>2132102.40</td>\n",
       "      <td>-0.996822</td>\n",
       "      <td>0.626878</td>\n",
       "    </tr>\n",
       "  </tbody>\n",
       "</table>\n",
       "<p>399681 rows × 16 columns</p>\n",
       "</div>"
      ],
      "text/plain": [
       "         step      amount  oldbalanceOrg  newbalanceOrig  oldbalanceDest  \\\n",
       "2730813   212  1588629.84         447.00             0.0            0.00   \n",
       "2507178   205    36130.45           0.00             0.0        62137.86   \n",
       "4348978   309   881336.20      667078.13             0.0      3154847.68   \n",
       "2485137   204  1499751.15      384186.49             0.0     14790402.71   \n",
       "1185431   132   712422.81      336104.00             0.0       623887.51   \n",
       "...       ...         ...            ...             ...             ...   \n",
       "2419620   202    92095.62           0.00             0.0      1388776.38   \n",
       "5008212   353   212950.60           0.00             0.0       487361.65   \n",
       "4030955   299   598752.17           0.00             0.0      1338439.49   \n",
       "4497120   325   662973.18        4060.00             0.0            0.00   \n",
       "4582425   328  2132102.40      313693.62             0.0      3400143.68   \n",
       "\n",
       "         newbalanceDest  isFlaggedFraud  CASH_IN  CASH_OUT  DEBIT  PAYMENT  \\\n",
       "2730813      1588629.84               0        0         0      0        0   \n",
       "2507178        98268.31               0        0         0      0        0   \n",
       "4348978      4036183.88               0        0         0      0        0   \n",
       "2485137     16290153.85               0        0         0      0        0   \n",
       "1185431      1336310.31               0        0         0      0        0   \n",
       "...                 ...             ...      ...       ...    ...      ...   \n",
       "2419620      1480872.00               0        0         0      0        0   \n",
       "5008212       700312.25               0        0         0      0        0   \n",
       "4030955      1937191.66               0        0         0      0        0   \n",
       "4497120       662973.18               0        0         0      0        0   \n",
       "4582425      5532246.08               0        0         0      0        0   \n",
       "\n",
       "         TRANSFER  diffOrigen  diffDestino  cambioOrigen  cambioDestino  \n",
       "2730813         1     -447.00   1588629.84     -0.308908    1588.629850  \n",
       "2507178         1        0.00     36130.45      0.000010       0.572247  \n",
       "4348978         1  -667078.13    881336.20     -0.998503       0.279271  \n",
       "2485137         1  -384186.49   1499751.14     -0.997404       0.101393  \n",
       "1185431         1  -336104.00    712422.80     -0.997034       1.140082  \n",
       "...           ...         ...          ...           ...            ...  \n",
       "2419620         1        0.00     92095.62      0.000010       0.066267  \n",
       "5008212         1        0.00    212950.60      0.000010       0.436051  \n",
       "4030955         1        0.00    598752.17      0.000010       0.447017  \n",
       "4497120         1    -4060.00    662973.18     -0.802370     662.973190  \n",
       "4582425         1  -313693.62   2132102.40     -0.996822       0.626878  \n",
       "\n",
       "[399681 rows x 16 columns]"
      ]
     },
     "execution_count": 161,
     "metadata": {},
     "output_type": "execute_result"
    }
   ],
   "source": [
    "train, test = train_test_split(df[df.TRANSFER==1])\n",
    "X_train = train.drop(columns=['isFraud','nameDest','nameOrig'])\n",
    "y_train = train['isFraud']\n",
    "X_test = test.drop(columns=['isFraud','nameDest','nameOrig'])\n",
    "y_test = test['isFraud']\n",
    "X_train"
   ]
  },
  {
   "cell_type": "code",
   "execution_count": 162,
   "metadata": {},
   "outputs": [
    {
     "name": "stdout",
     "output_type": "stream",
     "text": [
      "Before OverSampling, counts of label '1': 3096\n",
      "Before OverSampling, counts of label '0': 396585 \n",
      "\n",
      "After OverSampling, the shape of train_X: (793170, 16)\n",
      "After OverSampling, the shape of train_y: (793170,) \n",
      "\n",
      "After OverSampling, counts of label '1': 396585\n",
      "After OverSampling, counts of label '0': 396585\n"
     ]
    }
   ],
   "source": [
    "print(\"Before OverSampling, counts of label '1': {}\".format(sum(y_train==1)))\n",
    "print(\"Before OverSampling, counts of label '0': {} \\n\".format(sum(y_train==0)))\n",
    "\n",
    "sm = SMOTE(random_state=2)\n",
    "X_train_res, y_train_res = sm.fit_resample(X_train, y_train.ravel())\n",
    "\n",
    "print('After OverSampling, the shape of train_X: {}'.format(X_train_res.shape))\n",
    "print('After OverSampling, the shape of train_y: {} \\n'.format(y_train_res.shape))\n",
    "\n",
    "print(\"After OverSampling, counts of label '1': {}\".format(sum(y_train_res==1)))\n",
    "print(\"After OverSampling, counts of label '0': {}\".format(sum(y_train_res==0)))"
   ]
  },
  {
   "cell_type": "code",
   "execution_count": 163,
   "metadata": {},
   "outputs": [],
   "source": [
    "lr3 = LogisticRegression(fit_intercept=True, penalty='l2', tol=1e-5, C=20, solver='lbfgs', max_iter=120,\n",
    "                       warm_start=True)\n",
    "lr_default = LogisticRegression()\n"
   ]
  },
  {
   "cell_type": "code",
   "execution_count": 164,
   "metadata": {},
   "outputs": [
    {
     "name": "stdout",
     "output_type": "stream",
     "text": [
      "accuracy in train: 0.9800816150880327\n",
      "accuracy in test: 0.9806121836250637\n"
     ]
    }
   ],
   "source": [
    "\n",
    "lr3.fit(X_train_res, y_train_res)\n",
    "preds_train = lr3.predict(X_train)\n",
    "preds_test = lr3.predict(X_test)\n",
    "print('accuracy in train:', accuracy_score(preds_train, y_train))\n",
    "print('accuracy in test:', accuracy_score(preds_test, y_test))"
   ]
  },
  {
   "cell_type": "code",
   "execution_count": 165,
   "metadata": {},
   "outputs": [
    {
     "data": {
      "text/plain": [
       "Text(0.5, 1.0, 'Accuracy Score: 0.9800816150880327')"
      ]
     },
     "execution_count": 165,
     "metadata": {},
     "output_type": "execute_result"
    },
    {
     "data": {
      "image/png": "[encoded data removed]",
      "text/plain": [
       "<Figure size 648x648 with 2 Axes>"
      ]
     },
     "metadata": {
      "needs_background": "light"
     },
     "output_type": "display_data"
    }
   ],
   "source": [
    "cmtrain3 = metrics.confusion_matrix(preds_train, y_train)\n",
    "plt.figure(figsize=(9,9))\n",
    "sns.heatmap(cmtrain3, annot=True, fmt=\".3f\", linewidths=.5, square = True, cmap = 'Blues_r')\n",
    "plt.ylabel('Actual label')\n",
    "plt.xlabel('Predicted label')\n",
    "all_sample_title = 'Accuracy Score: {0}'.format(accuracy_score(preds_train, y_train))\n",
    "plt.title(all_sample_title, size = 15)"
   ]
  },
  {
   "cell_type": "code",
   "execution_count": 166,
   "metadata": {},
   "outputs": [
    {
     "data": {
      "text/plain": [
       "Text(0.5, 1.0, 'Accuracy Score: 0.9806121836250637')"
      ]
     },
     "execution_count": 166,
     "metadata": {},
     "output_type": "execute_result"
    },
    {
     "data": {
      "image/png": "[encoded data removed]",
      "text/plain": [
       "<Figure size 648x648 with 2 Axes>"
      ]
     },
     "metadata": {
      "needs_background": "light"
     },
     "output_type": "display_data"
    }
   ],
   "source": [
    "cmtest3 = metrics.confusion_matrix(y_test, preds_test)\n",
    "plt.figure(figsize=(9,9))\n",
    "sns.heatmap(cmtest3, annot=True, fmt=\".3f\", linewidths=.5, square = True, cmap = 'Blues_r')\n",
    "plt.ylabel('Actual label')\n",
    "plt.xlabel('Predicted label')\n",
    "all_sample_title = 'Accuracy Score: {0}'.format(accuracy_score(preds_test, y_test))\n",
    "plt.title(all_sample_title, size = 15)"
   ]
  },
  {
   "cell_type": "markdown",
   "metadata": {},
   "source": [
    "# Modelo 2 + 3"
   ]
  },
  {
   "cell_type": "code",
   "execution_count": 178,
   "metadata": {},
   "outputs": [
    {
     "data": {
      "text/plain": [
       "Text(0.5, 1.0, 'CM Modelos 2 y 3')"
      ]
     },
     "execution_count": 178,
     "metadata": {},
     "output_type": "execute_result"
    },
    {
     "data": {
      "image/png": "[encoded data removed]",
      "text/plain": [
       "<Figure size 648x648 with 2 Axes>"
      ]
     },
     "metadata": {
      "needs_background": "light"
     },
     "output_type": "display_data"
    }
   ],
   "source": [
    "plt.figure(figsize=(9,9))\n",
    "sns.heatmap(cmtest3+cmtest2, annot=True, fmt=\".3f\", linewidths=.5, square = True, cmap = 'Blues_r')\n",
    "plt.ylabel('Actual label')\n",
    "plt.xlabel('Predicted label')\n",
    "all_sample_title = ('CM Modelos 2 y 3')\n",
    "plt.title(all_sample_title, size = 15)"
   ]
  },
  {
   "cell_type": "code",
   "execution_count": 168,
   "metadata": {},
   "outputs": [],
   "source": [
    "cmtest23=cmtest2+cmtest3\n",
    "TP1 = cmtest1[1][1]/(cmtest1[1][0]+cmtest1[1][1])\n",
    "TP2 = cmtest2[1][1]/(cmtest2[1][0]+cmtest2[1][1])\n",
    "TP3 = cmtest3[1][1]/(cmtest3[1][0]+cmtest3[1][1])\n",
    "TP23 = cmtest23[1][1]/(cmtest23[1][0]+cmtest23[1][1])"
   ]
  },
  {
   "cell_type": "code",
   "execution_count": 169,
   "metadata": {},
   "outputs": [
    {
     "data": {
      "image/png": "[encoded data removed]",
      "text/plain": [
       "<Figure size 432x288 with 1 Axes>"
      ]
     },
     "metadata": {
      "needs_background": "light"
     },
     "output_type": "display_data"
    }
   ],
   "source": [
    "fig = plt.figure()\n",
    "ax = fig.add_axes([0,0,1,1])\n",
    "names = ['TP1', 'TP2', 'TP3', 'TP23']\n",
    "values = [TP1,TP2,TP3,TP23]\n",
    "ax.bar(names,values)\n",
    "ax.set_title('TP rate')\n",
    "plt.show()"
   ]
  },
  {
   "cell_type": "code",
   "execution_count": 189,
   "metadata": {},
   "outputs": [],
   "source": [
    "FN1 = cmtest1[1][0]/(cmtest1[1][0]+cmtest1[1][1])\n",
    "FN2 = cmtest2[1][0]/(cmtest2[1][0]+cmtest2[1][1])\n",
    "FN3 = cmtest3[1][0]/(cmtest3[1][0]+cmtest3[1][1])\n",
    "FN23 = cmtest23[1][0]/(cmtest23[1][0]+cmtest23[1][1])"
   ]
  },
  {
   "cell_type": "code",
   "execution_count": 190,
   "metadata": {},
   "outputs": [
    {
     "data": {
      "image/png": "[encoded data removed]",
      "text/plain": [
       "<Figure size 432x288 with 1 Axes>"
      ]
     },
     "metadata": {
      "needs_background": "light"
     },
     "output_type": "display_data"
    }
   ],
   "source": [
    "fig = plt.figure()\n",
    "ax = fig.add_axes([0,0,1,1])\n",
    "names = ['FN1', 'FN2', 'FN3', 'FN23']\n",
    "values = [FN1,FN2,FN3,FN23]\n",
    "ax.bar(names,values)\n",
    "ax.set_title('FN rate')\n",
    "plt.show()"
   ]
  },
  {
   "cell_type": "code",
   "execution_count": 179,
   "metadata": {},
   "outputs": [],
   "source": [
    "TN1 = cmtest1[0][0]/(cmtest1[0][1]+cmtest1[0][0])\n",
    "TN2 = cmtest2[0][0]/(cmtest2[0][1]+cmtest2[0][0])\n",
    "TN3 = cmtest3[0][0]/(cmtest3[0][1]+cmtest3[0][0])\n",
    "TN23 = cmtest23[0][0]/(cmtest23[0][1]+cmtest23[0][0])"
   ]
  },
  {
   "cell_type": "code",
   "execution_count": 180,
   "metadata": {},
   "outputs": [
    {
     "data": {
      "image/png": "[encoded data removed]",
      "text/plain": [
       "<Figure size 432x288 with 1 Axes>"
      ]
     },
     "metadata": {
      "needs_background": "light"
     },
     "output_type": "display_data"
    }
   ],
   "source": [
    "fig = plt.figure()\n",
    "ax = fig.add_axes([0,0,1,1])\n",
    "names = ['TN1', 'TN2', 'TN3', 'TN23']\n",
    "values = [TN1,TN2,TN3,TN23]\n",
    "ax.bar(names,values)\n",
    "ax.set_title('TN rate')\n",
    "plt.show()"
   ]
  },
  {
   "cell_type": "code",
   "execution_count": 193,
   "metadata": {},
   "outputs": [],
   "source": [
    "FP1 = cmtest1[0][1]/(cmtest1[0][1]+cmtest1[0][0])\n",
    "FP2 = cmtest2[0][1]/(cmtest2[0][1]+cmtest2[0][0])\n",
    "FP3 = cmtest3[0][1]/(cmtest3[0][1]+cmtest3[0][0])\n",
    "FP23 = cmtest23[0][1]/(cmtest23[0][1]+cmtest23[0][0])"
   ]
  },
  {
   "cell_type": "code",
   "execution_count": 194,
   "metadata": {},
   "outputs": [
    {
     "data": {
      "image/png": "[encoded data removed]",
      "text/plain": [
       "<Figure size 432x288 with 1 Axes>"
      ]
     },
     "metadata": {
      "needs_background": "light"
     },
     "output_type": "display_data"
    }
   ],
   "source": [
    "fig = plt.figure()\n",
    "ax = fig.add_axes([0,0,1,1])\n",
    "names = ['FP1', 'FP2', 'FP3', 'FP23']\n",
    "values = [FP1,FP2,FP3,FP23]\n",
    "ax.bar(names,values)\n",
    "ax.set_title('FP rate')\n",
    "plt.show()"
   ]
  },
  {
   "cell_type": "code",
   "execution_count": 201,
   "metadata": {},
   "outputs": [
    {
     "data": {
      "text/plain": [
       "Text(0.5, 1.0, 'CM Modelos 2 y 3 - SENSIBILIDAD')"
      ]
     },
     "execution_count": 201,
     "metadata": {},
     "output_type": "execute_result"
    },
    {
     "data": {
      "image/png": "[encoded data removed]",
      "text/plain": [
       "<Figure size 648x648 with 2 Axes>"
      ]
     },
     "metadata": {
      "needs_background": "light"
     },
     "output_type": "display_data"
    }
   ],
   "source": [
    "plt.figure(figsize=(9,9))\n",
    "sns.heatmap([[TN23*100,FP23*100],[FN23*100,TP23*100]], annot=True, fmt=\".3f\", linewidths=.5, square = True, cmap = 'RdYlGn')\n",
    "plt.ylabel('Actual label')\n",
    "plt.xlabel('Predicted label')\n",
    "all_sample_title = ('CM Modelos 2 y 3 - SENSIBILIDAD')\n",
    "plt.title(all_sample_title, size = 15)"
   ]
  }
 ],
 "metadata": {
  "interpreter": {
   "hash": "001dc6451943b644798834ea4a8281ea1eb522b978c4c763cc6c7a75e5e863c3"
  },
  "kernelspec": {
   "display_name": "Python 3.8.8 64-bit ('base': conda)",
   "name": "python3"
  },
  "language_info": {
   "codemirror_mode": {
    "name": "ipython",
    "version": 3
   },
   "file_extension": ".py",
   "mimetype": "text/x-python",
   "name": "python",
   "nbconvert_exporter": "python",
   "pygments_lexer": "ipython3",
   "version": "3.8.8"
  }
 },
 "nbformat": 4,
 "nbformat_minor": 5
}
