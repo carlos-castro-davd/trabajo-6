{
 "cells": [
  {
   "cell_type": "markdown",
   "id": "excellent-politics",
   "metadata": {},
   "source": [
    "# Modelo\n",
    "-----\n",
    "## Modelo clasificador basado en técnicas lineales & árboles de decisión. \n",
    "Utilizaremos este modelo como base de comparación con modelos posteriores más complejos. \n",
    "\n",
    "Nos servirá este modelo también para detectar las variables más significativas para la detección de fraudes.\n",
    "\n",
    "La entrada de este modelo será el dataset 'prepared' con los datos ya preparados para su consumición."
   ]
  },
  {
   "cell_type": "code",
   "execution_count": 290,
   "metadata": {},
   "outputs": [
    {
     "name": "stdout",
     "output_type": "stream",
     "text": [
      "Requirement already satisfied: imblearn in c:\\users\\juani\\anaconda3\\lib\\site-packages (0.0)\n",
      "Requirement already satisfied: imbalanced-learn in c:\\users\\juani\\anaconda3\\lib\\site-packages (from imblearn) (0.8.1)\n",
      "Requirement already satisfied: numpy>=1.13.3 in c:\\users\\juani\\anaconda3\\lib\\site-packages (from imbalanced-learn->imblearn) (1.20.1)\n",
      "Requirement already satisfied: scikit-learn>=0.24 in c:\\users\\juani\\anaconda3\\lib\\site-packages (from imbalanced-learn->imblearn) (0.24.0)\n",
      "Requirement already satisfied: joblib>=0.11 in c:\\users\\juani\\anaconda3\\lib\\site-packages (from imbalanced-learn->imblearn) (1.0.1)\n",
      "Requirement already satisfied: scipy>=0.19.1 in c:\\users\\juani\\anaconda3\\lib\\site-packages (from imbalanced-learn->imblearn) (1.6.2)\n",
      "Requirement already satisfied: threadpoolctl>=2.0.0 in c:\\users\\juani\\anaconda3\\lib\\site-packages (from scikit-learn>=0.24->imbalanced-learn->imblearn) (2.1.0)\n"
     ]
    }
   ],
   "source": [
    "!pip install imblearn"
   ]
  },
  {
   "cell_type": "code",
   "execution_count": 291,
   "id": "graphic-arlington",
   "metadata": {},
   "outputs": [],
   "source": [
    "import numpy as np\n",
    "import pandas as pd\n",
    "import matplotlib.pyplot as plt\n",
    "from sklearn.preprocessing import Normalizer, StandardScaler\n",
    "from sklearn.linear_model import LogisticRegression\n",
    "from sklearn.model_selection import train_test_split\n",
    "from sklearn.metrics import roc_auc_score, accuracy_score, f1_score, confusion_matrix, classification_report\n",
    "import seaborn as sns\n",
    "from sklearn import metrics\n",
    "from imblearn.over_sampling import SMOTE\n",
    "from sklearn.model_selection import train_test_split"
   ]
  },
  {
   "cell_type": "code",
   "execution_count": 292,
   "metadata": {},
   "outputs": [
    {
     "data": {
      "text/html": [
       "<div>\n",
       "<style scoped>\n",
       "    .dataframe tbody tr th:only-of-type {\n",
       "        vertical-align: middle;\n",
       "    }\n",
       "\n",
       "    .dataframe tbody tr th {\n",
       "        vertical-align: top;\n",
       "    }\n",
       "\n",
       "    .dataframe thead th {\n",
       "        text-align: right;\n",
       "    }\n",
       "</style>\n",
       "<table border=\"1\" class=\"dataframe\">\n",
       "  <thead>\n",
       "    <tr style=\"text-align: right;\">\n",
       "      <th></th>\n",
       "      <th>step</th>\n",
       "      <th>amount</th>\n",
       "      <th>nameOrig</th>\n",
       "      <th>oldbalanceOrg</th>\n",
       "      <th>newbalanceOrig</th>\n",
       "      <th>nameDest</th>\n",
       "      <th>oldbalanceDest</th>\n",
       "      <th>newbalanceDest</th>\n",
       "      <th>isFraud</th>\n",
       "      <th>isFlaggedFraud</th>\n",
       "      <th>CASH_IN</th>\n",
       "      <th>CASH_OUT</th>\n",
       "      <th>DEBIT</th>\n",
       "      <th>PAYMENT</th>\n",
       "      <th>TRANSFER</th>\n",
       "      <th>diffOrigen</th>\n",
       "      <th>diffDestino</th>\n",
       "      <th>cambioOrigen</th>\n",
       "      <th>cambioDestino</th>\n",
       "    </tr>\n",
       "  </thead>\n",
       "  <tbody>\n",
       "    <tr>\n",
       "      <th>0</th>\n",
       "      <td>1</td>\n",
       "      <td>9839.64</td>\n",
       "      <td>C1231006815</td>\n",
       "      <td>170136.00</td>\n",
       "      <td>160296.36</td>\n",
       "      <td>M1979787155</td>\n",
       "      <td>0.00</td>\n",
       "      <td>0.00</td>\n",
       "      <td>0</td>\n",
       "      <td>0</td>\n",
       "      <td>0</td>\n",
       "      <td>0</td>\n",
       "      <td>0</td>\n",
       "      <td>1</td>\n",
       "      <td>0</td>\n",
       "      <td>-9839.64</td>\n",
       "      <td>0.00</td>\n",
       "      <td>-0.057496</td>\n",
       "      <td>0.000010</td>\n",
       "    </tr>\n",
       "    <tr>\n",
       "      <th>1</th>\n",
       "      <td>1</td>\n",
       "      <td>1864.28</td>\n",
       "      <td>C1666544295</td>\n",
       "      <td>21249.00</td>\n",
       "      <td>19384.72</td>\n",
       "      <td>M2044282225</td>\n",
       "      <td>0.00</td>\n",
       "      <td>0.00</td>\n",
       "      <td>0</td>\n",
       "      <td>0</td>\n",
       "      <td>0</td>\n",
       "      <td>0</td>\n",
       "      <td>0</td>\n",
       "      <td>1</td>\n",
       "      <td>0</td>\n",
       "      <td>-1864.28</td>\n",
       "      <td>0.00</td>\n",
       "      <td>-0.083791</td>\n",
       "      <td>0.000010</td>\n",
       "    </tr>\n",
       "    <tr>\n",
       "      <th>2</th>\n",
       "      <td>1</td>\n",
       "      <td>181.00</td>\n",
       "      <td>C1305486145</td>\n",
       "      <td>181.00</td>\n",
       "      <td>0.00</td>\n",
       "      <td>C553264065</td>\n",
       "      <td>0.00</td>\n",
       "      <td>0.00</td>\n",
       "      <td>1</td>\n",
       "      <td>0</td>\n",
       "      <td>0</td>\n",
       "      <td>0</td>\n",
       "      <td>0</td>\n",
       "      <td>0</td>\n",
       "      <td>1</td>\n",
       "      <td>-181.00</td>\n",
       "      <td>0.00</td>\n",
       "      <td>-0.153251</td>\n",
       "      <td>0.000010</td>\n",
       "    </tr>\n",
       "    <tr>\n",
       "      <th>3</th>\n",
       "      <td>1</td>\n",
       "      <td>181.00</td>\n",
       "      <td>C840083671</td>\n",
       "      <td>181.00</td>\n",
       "      <td>0.00</td>\n",
       "      <td>C38997010</td>\n",
       "      <td>21182.00</td>\n",
       "      <td>0.00</td>\n",
       "      <td>1</td>\n",
       "      <td>0</td>\n",
       "      <td>0</td>\n",
       "      <td>1</td>\n",
       "      <td>0</td>\n",
       "      <td>0</td>\n",
       "      <td>0</td>\n",
       "      <td>-181.00</td>\n",
       "      <td>-21182.00</td>\n",
       "      <td>-0.153251</td>\n",
       "      <td>-0.954918</td>\n",
       "    </tr>\n",
       "    <tr>\n",
       "      <th>4</th>\n",
       "      <td>1</td>\n",
       "      <td>11668.14</td>\n",
       "      <td>C2048537720</td>\n",
       "      <td>41554.00</td>\n",
       "      <td>29885.86</td>\n",
       "      <td>M1230701703</td>\n",
       "      <td>0.00</td>\n",
       "      <td>0.00</td>\n",
       "      <td>0</td>\n",
       "      <td>0</td>\n",
       "      <td>0</td>\n",
       "      <td>0</td>\n",
       "      <td>0</td>\n",
       "      <td>1</td>\n",
       "      <td>0</td>\n",
       "      <td>-11668.14</td>\n",
       "      <td>0.00</td>\n",
       "      <td>-0.274196</td>\n",
       "      <td>0.000010</td>\n",
       "    </tr>\n",
       "    <tr>\n",
       "      <th>...</th>\n",
       "      <td>...</td>\n",
       "      <td>...</td>\n",
       "      <td>...</td>\n",
       "      <td>...</td>\n",
       "      <td>...</td>\n",
       "      <td>...</td>\n",
       "      <td>...</td>\n",
       "      <td>...</td>\n",
       "      <td>...</td>\n",
       "      <td>...</td>\n",
       "      <td>...</td>\n",
       "      <td>...</td>\n",
       "      <td>...</td>\n",
       "      <td>...</td>\n",
       "      <td>...</td>\n",
       "      <td>...</td>\n",
       "      <td>...</td>\n",
       "      <td>...</td>\n",
       "      <td>...</td>\n",
       "    </tr>\n",
       "    <tr>\n",
       "      <th>6362615</th>\n",
       "      <td>743</td>\n",
       "      <td>339682.13</td>\n",
       "      <td>C786484425</td>\n",
       "      <td>339682.13</td>\n",
       "      <td>0.00</td>\n",
       "      <td>C776919290</td>\n",
       "      <td>0.00</td>\n",
       "      <td>339682.13</td>\n",
       "      <td>1</td>\n",
       "      <td>0</td>\n",
       "      <td>0</td>\n",
       "      <td>1</td>\n",
       "      <td>0</td>\n",
       "      <td>0</td>\n",
       "      <td>0</td>\n",
       "      <td>-339682.13</td>\n",
       "      <td>339682.13</td>\n",
       "      <td>-0.997065</td>\n",
       "      <td>339.682140</td>\n",
       "    </tr>\n",
       "    <tr>\n",
       "      <th>6362616</th>\n",
       "      <td>743</td>\n",
       "      <td>6311409.28</td>\n",
       "      <td>C1529008245</td>\n",
       "      <td>6311409.28</td>\n",
       "      <td>0.00</td>\n",
       "      <td>C1881841831</td>\n",
       "      <td>0.00</td>\n",
       "      <td>0.00</td>\n",
       "      <td>1</td>\n",
       "      <td>0</td>\n",
       "      <td>0</td>\n",
       "      <td>0</td>\n",
       "      <td>0</td>\n",
       "      <td>0</td>\n",
       "      <td>1</td>\n",
       "      <td>-6311409.28</td>\n",
       "      <td>0.00</td>\n",
       "      <td>-0.999842</td>\n",
       "      <td>0.000010</td>\n",
       "    </tr>\n",
       "    <tr>\n",
       "      <th>6362617</th>\n",
       "      <td>743</td>\n",
       "      <td>6311409.28</td>\n",
       "      <td>C1162922333</td>\n",
       "      <td>6311409.28</td>\n",
       "      <td>0.00</td>\n",
       "      <td>C1365125890</td>\n",
       "      <td>68488.84</td>\n",
       "      <td>6379898.11</td>\n",
       "      <td>1</td>\n",
       "      <td>0</td>\n",
       "      <td>0</td>\n",
       "      <td>1</td>\n",
       "      <td>0</td>\n",
       "      <td>0</td>\n",
       "      <td>0</td>\n",
       "      <td>-6311409.28</td>\n",
       "      <td>6311409.27</td>\n",
       "      <td>-0.999842</td>\n",
       "      <td>90.826229</td>\n",
       "    </tr>\n",
       "    <tr>\n",
       "      <th>6362618</th>\n",
       "      <td>743</td>\n",
       "      <td>850002.52</td>\n",
       "      <td>C1685995037</td>\n",
       "      <td>850002.52</td>\n",
       "      <td>0.00</td>\n",
       "      <td>C2080388513</td>\n",
       "      <td>0.00</td>\n",
       "      <td>0.00</td>\n",
       "      <td>1</td>\n",
       "      <td>0</td>\n",
       "      <td>0</td>\n",
       "      <td>0</td>\n",
       "      <td>0</td>\n",
       "      <td>0</td>\n",
       "      <td>1</td>\n",
       "      <td>-850002.52</td>\n",
       "      <td>0.00</td>\n",
       "      <td>-0.998825</td>\n",
       "      <td>0.000010</td>\n",
       "    </tr>\n",
       "    <tr>\n",
       "      <th>6362619</th>\n",
       "      <td>743</td>\n",
       "      <td>850002.52</td>\n",
       "      <td>C1280323807</td>\n",
       "      <td>850002.52</td>\n",
       "      <td>0.00</td>\n",
       "      <td>C873221189</td>\n",
       "      <td>6510099.11</td>\n",
       "      <td>7360101.63</td>\n",
       "      <td>1</td>\n",
       "      <td>0</td>\n",
       "      <td>0</td>\n",
       "      <td>1</td>\n",
       "      <td>0</td>\n",
       "      <td>0</td>\n",
       "      <td>0</td>\n",
       "      <td>-850002.52</td>\n",
       "      <td>850002.52</td>\n",
       "      <td>-0.998825</td>\n",
       "      <td>0.130547</td>\n",
       "    </tr>\n",
       "  </tbody>\n",
       "</table>\n",
       "<p>6362620 rows × 19 columns</p>\n",
       "</div>"
      ],
      "text/plain": [
       "         step      amount     nameOrig  oldbalanceOrg  newbalanceOrig  \\\n",
       "0           1     9839.64  C1231006815      170136.00       160296.36   \n",
       "1           1     1864.28  C1666544295       21249.00        19384.72   \n",
       "2           1      181.00  C1305486145         181.00            0.00   \n",
       "3           1      181.00   C840083671         181.00            0.00   \n",
       "4           1    11668.14  C2048537720       41554.00        29885.86   \n",
       "...       ...         ...          ...            ...             ...   \n",
       "6362615   743   339682.13   C786484425      339682.13            0.00   \n",
       "6362616   743  6311409.28  C1529008245     6311409.28            0.00   \n",
       "6362617   743  6311409.28  C1162922333     6311409.28            0.00   \n",
       "6362618   743   850002.52  C1685995037      850002.52            0.00   \n",
       "6362619   743   850002.52  C1280323807      850002.52            0.00   \n",
       "\n",
       "            nameDest  oldbalanceDest  newbalanceDest  isFraud  isFlaggedFraud  \\\n",
       "0        M1979787155            0.00            0.00        0               0   \n",
       "1        M2044282225            0.00            0.00        0               0   \n",
       "2         C553264065            0.00            0.00        1               0   \n",
       "3          C38997010        21182.00            0.00        1               0   \n",
       "4        M1230701703            0.00            0.00        0               0   \n",
       "...              ...             ...             ...      ...             ...   \n",
       "6362615   C776919290            0.00       339682.13        1               0   \n",
       "6362616  C1881841831            0.00            0.00        1               0   \n",
       "6362617  C1365125890        68488.84      6379898.11        1               0   \n",
       "6362618  C2080388513            0.00            0.00        1               0   \n",
       "6362619   C873221189      6510099.11      7360101.63        1               0   \n",
       "\n",
       "         CASH_IN  CASH_OUT  DEBIT  PAYMENT  TRANSFER  diffOrigen  diffDestino  \\\n",
       "0              0         0      0        1         0    -9839.64         0.00   \n",
       "1              0         0      0        1         0    -1864.28         0.00   \n",
       "2              0         0      0        0         1     -181.00         0.00   \n",
       "3              0         1      0        0         0     -181.00    -21182.00   \n",
       "4              0         0      0        1         0   -11668.14         0.00   \n",
       "...          ...       ...    ...      ...       ...         ...          ...   \n",
       "6362615        0         1      0        0         0  -339682.13    339682.13   \n",
       "6362616        0         0      0        0         1 -6311409.28         0.00   \n",
       "6362617        0         1      0        0         0 -6311409.28   6311409.27   \n",
       "6362618        0         0      0        0         1  -850002.52         0.00   \n",
       "6362619        0         1      0        0         0  -850002.52    850002.52   \n",
       "\n",
       "         cambioOrigen  cambioDestino  \n",
       "0           -0.057496       0.000010  \n",
       "1           -0.083791       0.000010  \n",
       "2           -0.153251       0.000010  \n",
       "3           -0.153251      -0.954918  \n",
       "4           -0.274196       0.000010  \n",
       "...               ...            ...  \n",
       "6362615     -0.997065     339.682140  \n",
       "6362616     -0.999842       0.000010  \n",
       "6362617     -0.999842      90.826229  \n",
       "6362618     -0.998825       0.000010  \n",
       "6362619     -0.998825       0.130547  \n",
       "\n",
       "[6362620 rows x 19 columns]"
      ]
     },
     "execution_count": 292,
     "metadata": {},
     "output_type": "execute_result"
    }
   ],
   "source": [
    "df = pd.read_csv(\"../prep/prepared.csv\")\n",
    "df = df.drop(columns=['Unnamed: 0'])\n",
    "df"
   ]
  },
  {
   "cell_type": "markdown",
   "metadata": {},
   "source": [
    "# Modelo 1"
   ]
  },
  {
   "cell_type": "code",
   "execution_count": 293,
   "metadata": {},
   "outputs": [
    {
     "name": "stdout",
     "output_type": "stream",
     "text": [
      "Number transactions X_train dataset:  (4771965, 16)\n",
      "Number transactions y_train dataset:  (4771965,)\n",
      "Number transactions X_test dataset:  (1590655, 16)\n",
      "Number transactions y_test dataset:  (1590655,)\n"
     ]
    }
   ],
   "source": [
    "train, test = train_test_split(df)\n",
    "X_train = train.drop(columns=['isFraud','nameDest','nameOrig'])\n",
    "y_train = train['isFraud']\n",
    "X_test = test.drop(columns=['isFraud','nameDest','nameOrig'])\n",
    "y_test = test['isFraud']\n",
    "X_train\n",
    "\n",
    "print(\"Number transactions X_train dataset: \", X_train.shape)\n",
    "print(\"Number transactions y_train dataset: \", y_train.shape)\n",
    "print(\"Number transactions X_test dataset: \", X_test.shape)\n",
    "print(\"Number transactions y_test dataset: \", y_test.shape)"
   ]
  },
  {
   "cell_type": "code",
   "execution_count": 294,
   "metadata": {},
   "outputs": [
    {
     "name": "stdout",
     "output_type": "stream",
     "text": [
      "Before OverSampling, counts of label '1': 6169\n",
      "Before OverSampling, counts of label '0': 4765796 \n",
      "\n",
      "After OverSampling, the shape of train_X: (9531592, 16)\n",
      "After OverSampling, the shape of train_y: (9531592,) \n",
      "\n",
      "After OverSampling, counts of label '1': 4765796\n",
      "After OverSampling, counts of label '0': 4765796\n"
     ]
    }
   ],
   "source": [
    "print(\"Before OverSampling, counts of label '1': {}\".format(sum(y_train==1)))\n",
    "print(\"Before OverSampling, counts of label '0': {} \\n\".format(sum(y_train==0)))\n",
    "\n",
    "sm = SMOTE(random_state=2)\n",
    "X_train_res, y_train_res = sm.fit_resample(X_train, y_train.ravel())\n",
    "\n",
    "print('After OverSampling, the shape of train_X: {}'.format(X_train_res.shape))\n",
    "print('After OverSampling, the shape of train_y: {} \\n'.format(y_train_res.shape))\n",
    "\n",
    "print(\"After OverSampling, counts of label '1': {}\".format(sum(y_train_res==1)))\n",
    "print(\"After OverSampling, counts of label '0': {}\".format(sum(y_train_res==0)))"
   ]
  },
  {
   "cell_type": "code",
   "execution_count": 295,
   "metadata": {},
   "outputs": [],
   "source": [
    "lr1 = LogisticRegression(fit_intercept=True, penalty='l2', tol=1e-5, C=20, solver='lbfgs', max_iter=120,\n",
    "                       warm_start=True)\n",
    "lr_default = LogisticRegression()\n"
   ]
  },
  {
   "cell_type": "code",
   "execution_count": 296,
   "metadata": {},
   "outputs": [
    {
     "name": "stdout",
     "output_type": "stream",
     "text": [
      "accuracy in train: 0.9166831693023734\n",
      "accuracy in test: 0.9168185433044878\n"
     ]
    }
   ],
   "source": [
    "\n",
    "lr1.fit(X_train_res, y_train_res)\n",
    "preds_train = lr1.predict(X_train)\n",
    "preds_test = lr1.predict(X_test)\n",
    "print('accuracy in train:', accuracy_score(preds_train, y_train))\n",
    "print('accuracy in test:', accuracy_score(preds_test, y_test))"
   ]
  },
  {
   "cell_type": "code",
   "execution_count": 297,
   "metadata": {},
   "outputs": [
    {
     "data": {
      "text/plain": [
       "Text(0.5, 1.0, 'Train M1 - Accuracy Score: 0.9166831693023734')"
      ]
     },
     "execution_count": 297,
     "metadata": {},
     "output_type": "execute_result"
    },
    {
     "data": {
      "image/png": "[encoded data removed]",
      "text/plain": [
       "<Figure size 648x648 with 2 Axes>"
      ]
     },
     "metadata": {
      "needs_background": "light"
     },
     "output_type": "display_data"
    }
   ],
   "source": [
    "cmtrain1 = metrics.confusion_matrix(preds_train, y_train)\n",
    "plt.figure(figsize=(9,9))\n",
    "sns.heatmap(cmtrain1, annot=True, fmt=\".3f\", linewidths=.5, square = True, cmap = 'YlOrBr')\n",
    "plt.ylabel('Actual label')\n",
    "plt.xlabel('Predicted label')\n",
    "all_sample_title = 'Train M1 - Accuracy Score: {0}'.format(accuracy_score(preds_train, y_train))\n",
    "plt.title(all_sample_title, size = 15)"
   ]
  },
  {
   "cell_type": "code",
   "execution_count": 298,
   "metadata": {},
   "outputs": [
    {
     "data": {
      "text/plain": [
       "Text(0.5, 1.0, 'Test M1 - Accuracy Score: 0.9168185433044878')"
      ]
     },
     "execution_count": 298,
     "metadata": {},
     "output_type": "execute_result"
    },
    {
     "data": {
      "image/png": "[encoded data removed]",
      "text/plain": [
       "<Figure size 648x648 with 2 Axes>"
      ]
     },
     "metadata": {
      "needs_background": "light"
     },
     "output_type": "display_data"
    }
   ],
   "source": [
    "cmtest1 = metrics.confusion_matrix(y_test, preds_test)\n",
    "plt.figure(figsize=(9,9))\n",
    "sns.heatmap(cmtest1, annot=True, fmt=\".3f\", linewidths=.5, square = True, cmap = 'Blues_r')\n",
    "plt.ylabel('Actual label')\n",
    "plt.xlabel('Predicted label')\n",
    "all_sample_title = 'Test M1 - Accuracy Score: {0}'.format(accuracy_score(preds_test, y_test))\n",
    "plt.title(all_sample_title, size = 15)"
   ]
  },
  {
   "cell_type": "markdown",
   "metadata": {},
   "source": [
    "# Modelo 2"
   ]
  },
  {
   "cell_type": "code",
   "execution_count": 322,
   "metadata": {},
   "outputs": [
    {
     "data": {
      "text/html": [
       "<div>\n",
       "<style scoped>\n",
       "    .dataframe tbody tr th:only-of-type {\n",
       "        vertical-align: middle;\n",
       "    }\n",
       "\n",
       "    .dataframe tbody tr th {\n",
       "        vertical-align: top;\n",
       "    }\n",
       "\n",
       "    .dataframe thead th {\n",
       "        text-align: right;\n",
       "    }\n",
       "</style>\n",
       "<table border=\"1\" class=\"dataframe\">\n",
       "  <thead>\n",
       "    <tr style=\"text-align: right;\">\n",
       "      <th></th>\n",
       "      <th>step</th>\n",
       "      <th>amount</th>\n",
       "      <th>oldbalanceOrg</th>\n",
       "      <th>newbalanceOrig</th>\n",
       "      <th>oldbalanceDest</th>\n",
       "      <th>newbalanceDest</th>\n",
       "      <th>isFlaggedFraud</th>\n",
       "      <th>CASH_IN</th>\n",
       "      <th>CASH_OUT</th>\n",
       "      <th>DEBIT</th>\n",
       "      <th>PAYMENT</th>\n",
       "      <th>TRANSFER</th>\n",
       "      <th>diffOrigen</th>\n",
       "      <th>diffDestino</th>\n",
       "      <th>cambioOrigen</th>\n",
       "      <th>cambioDestino</th>\n",
       "    </tr>\n",
       "  </thead>\n",
       "  <tbody>\n",
       "    <tr>\n",
       "      <th>2666498</th>\n",
       "      <td>210</td>\n",
       "      <td>286811.34</td>\n",
       "      <td>9124.00</td>\n",
       "      <td>0.00</td>\n",
       "      <td>0.00</td>\n",
       "      <td>286811.34</td>\n",
       "      <td>0</td>\n",
       "      <td>0</td>\n",
       "      <td>1</td>\n",
       "      <td>0</td>\n",
       "      <td>0</td>\n",
       "      <td>0</td>\n",
       "      <td>-9124.00</td>\n",
       "      <td>286811.34</td>\n",
       "      <td>-0.901224</td>\n",
       "      <td>286.811350</td>\n",
       "    </tr>\n",
       "    <tr>\n",
       "      <th>610731</th>\n",
       "      <td>34</td>\n",
       "      <td>134347.93</td>\n",
       "      <td>0.00</td>\n",
       "      <td>0.00</td>\n",
       "      <td>2180146.29</td>\n",
       "      <td>2314494.21</td>\n",
       "      <td>0</td>\n",
       "      <td>0</td>\n",
       "      <td>1</td>\n",
       "      <td>0</td>\n",
       "      <td>0</td>\n",
       "      <td>0</td>\n",
       "      <td>0.00</td>\n",
       "      <td>134347.92</td>\n",
       "      <td>0.000010</td>\n",
       "      <td>0.061595</td>\n",
       "    </tr>\n",
       "    <tr>\n",
       "      <th>5979836</th>\n",
       "      <td>408</td>\n",
       "      <td>555966.50</td>\n",
       "      <td>51697.43</td>\n",
       "      <td>0.00</td>\n",
       "      <td>1360181.14</td>\n",
       "      <td>1916147.64</td>\n",
       "      <td>0</td>\n",
       "      <td>0</td>\n",
       "      <td>1</td>\n",
       "      <td>0</td>\n",
       "      <td>0</td>\n",
       "      <td>0</td>\n",
       "      <td>-51697.43</td>\n",
       "      <td>555966.50</td>\n",
       "      <td>-0.981024</td>\n",
       "      <td>0.408444</td>\n",
       "    </tr>\n",
       "    <tr>\n",
       "      <th>472194</th>\n",
       "      <td>19</td>\n",
       "      <td>135574.04</td>\n",
       "      <td>167437.00</td>\n",
       "      <td>31862.96</td>\n",
       "      <td>22308477.38</td>\n",
       "      <td>22479202.61</td>\n",
       "      <td>0</td>\n",
       "      <td>0</td>\n",
       "      <td>1</td>\n",
       "      <td>0</td>\n",
       "      <td>0</td>\n",
       "      <td>0</td>\n",
       "      <td>-135574.04</td>\n",
       "      <td>170725.23</td>\n",
       "      <td>-0.804895</td>\n",
       "      <td>0.007653</td>\n",
       "    </tr>\n",
       "    <tr>\n",
       "      <th>1636916</th>\n",
       "      <td>157</td>\n",
       "      <td>187440.96</td>\n",
       "      <td>0.00</td>\n",
       "      <td>0.00</td>\n",
       "      <td>242136.73</td>\n",
       "      <td>429577.69</td>\n",
       "      <td>0</td>\n",
       "      <td>0</td>\n",
       "      <td>1</td>\n",
       "      <td>0</td>\n",
       "      <td>0</td>\n",
       "      <td>0</td>\n",
       "      <td>0.00</td>\n",
       "      <td>187440.96</td>\n",
       "      <td>0.000010</td>\n",
       "      <td>0.770928</td>\n",
       "    </tr>\n",
       "    <tr>\n",
       "      <th>...</th>\n",
       "      <td>...</td>\n",
       "      <td>...</td>\n",
       "      <td>...</td>\n",
       "      <td>...</td>\n",
       "      <td>...</td>\n",
       "      <td>...</td>\n",
       "      <td>...</td>\n",
       "      <td>...</td>\n",
       "      <td>...</td>\n",
       "      <td>...</td>\n",
       "      <td>...</td>\n",
       "      <td>...</td>\n",
       "      <td>...</td>\n",
       "      <td>...</td>\n",
       "      <td>...</td>\n",
       "      <td>...</td>\n",
       "    </tr>\n",
       "    <tr>\n",
       "      <th>4611919</th>\n",
       "      <td>329</td>\n",
       "      <td>164052.05</td>\n",
       "      <td>0.00</td>\n",
       "      <td>0.00</td>\n",
       "      <td>1211782.56</td>\n",
       "      <td>1375834.61</td>\n",
       "      <td>0</td>\n",
       "      <td>0</td>\n",
       "      <td>1</td>\n",
       "      <td>0</td>\n",
       "      <td>0</td>\n",
       "      <td>0</td>\n",
       "      <td>0.00</td>\n",
       "      <td>164052.05</td>\n",
       "      <td>0.000010</td>\n",
       "      <td>0.135269</td>\n",
       "    </tr>\n",
       "    <tr>\n",
       "      <th>5489844</th>\n",
       "      <td>380</td>\n",
       "      <td>175778.51</td>\n",
       "      <td>563813.00</td>\n",
       "      <td>388034.49</td>\n",
       "      <td>0.00</td>\n",
       "      <td>175778.51</td>\n",
       "      <td>0</td>\n",
       "      <td>0</td>\n",
       "      <td>1</td>\n",
       "      <td>0</td>\n",
       "      <td>0</td>\n",
       "      <td>0</td>\n",
       "      <td>-175778.51</td>\n",
       "      <td>175778.51</td>\n",
       "      <td>-0.311215</td>\n",
       "      <td>175.778520</td>\n",
       "    </tr>\n",
       "    <tr>\n",
       "      <th>843899</th>\n",
       "      <td>41</td>\n",
       "      <td>71395.90</td>\n",
       "      <td>30814.00</td>\n",
       "      <td>0.00</td>\n",
       "      <td>532447.28</td>\n",
       "      <td>603843.18</td>\n",
       "      <td>0</td>\n",
       "      <td>0</td>\n",
       "      <td>1</td>\n",
       "      <td>0</td>\n",
       "      <td>0</td>\n",
       "      <td>0</td>\n",
       "      <td>-30814.00</td>\n",
       "      <td>71395.90</td>\n",
       "      <td>-0.968567</td>\n",
       "      <td>0.133839</td>\n",
       "    </tr>\n",
       "    <tr>\n",
       "      <th>5258622</th>\n",
       "      <td>372</td>\n",
       "      <td>40433.42</td>\n",
       "      <td>0.00</td>\n",
       "      <td>0.00</td>\n",
       "      <td>89925.04</td>\n",
       "      <td>130358.46</td>\n",
       "      <td>0</td>\n",
       "      <td>0</td>\n",
       "      <td>1</td>\n",
       "      <td>0</td>\n",
       "      <td>0</td>\n",
       "      <td>0</td>\n",
       "      <td>0.00</td>\n",
       "      <td>40433.42</td>\n",
       "      <td>0.000010</td>\n",
       "      <td>0.444690</td>\n",
       "    </tr>\n",
       "    <tr>\n",
       "      <th>3633936</th>\n",
       "      <td>274</td>\n",
       "      <td>382066.43</td>\n",
       "      <td>858.00</td>\n",
       "      <td>0.00</td>\n",
       "      <td>3446980.59</td>\n",
       "      <td>3829047.02</td>\n",
       "      <td>0</td>\n",
       "      <td>0</td>\n",
       "      <td>1</td>\n",
       "      <td>0</td>\n",
       "      <td>0</td>\n",
       "      <td>0</td>\n",
       "      <td>-858.00</td>\n",
       "      <td>382066.43</td>\n",
       "      <td>-0.461781</td>\n",
       "      <td>0.110809</td>\n",
       "    </tr>\n",
       "  </tbody>\n",
       "</table>\n",
       "<p>1678125 rows × 16 columns</p>\n",
       "</div>"
      ],
      "text/plain": [
       "         step     amount  oldbalanceOrg  newbalanceOrig  oldbalanceDest  \\\n",
       "2666498   210  286811.34        9124.00            0.00            0.00   \n",
       "610731     34  134347.93           0.00            0.00      2180146.29   \n",
       "5979836   408  555966.50       51697.43            0.00      1360181.14   \n",
       "472194     19  135574.04      167437.00        31862.96     22308477.38   \n",
       "1636916   157  187440.96           0.00            0.00       242136.73   \n",
       "...       ...        ...            ...             ...             ...   \n",
       "4611919   329  164052.05           0.00            0.00      1211782.56   \n",
       "5489844   380  175778.51      563813.00       388034.49            0.00   \n",
       "843899     41   71395.90       30814.00            0.00       532447.28   \n",
       "5258622   372   40433.42           0.00            0.00        89925.04   \n",
       "3633936   274  382066.43         858.00            0.00      3446980.59   \n",
       "\n",
       "         newbalanceDest  isFlaggedFraud  CASH_IN  CASH_OUT  DEBIT  PAYMENT  \\\n",
       "2666498       286811.34               0        0         1      0        0   \n",
       "610731       2314494.21               0        0         1      0        0   \n",
       "5979836      1916147.64               0        0         1      0        0   \n",
       "472194      22479202.61               0        0         1      0        0   \n",
       "1636916       429577.69               0        0         1      0        0   \n",
       "...                 ...             ...      ...       ...    ...      ...   \n",
       "4611919      1375834.61               0        0         1      0        0   \n",
       "5489844       175778.51               0        0         1      0        0   \n",
       "843899        603843.18               0        0         1      0        0   \n",
       "5258622       130358.46               0        0         1      0        0   \n",
       "3633936      3829047.02               0        0         1      0        0   \n",
       "\n",
       "         TRANSFER  diffOrigen  diffDestino  cambioOrigen  cambioDestino  \n",
       "2666498         0    -9124.00    286811.34     -0.901224     286.811350  \n",
       "610731          0        0.00    134347.92      0.000010       0.061595  \n",
       "5979836         0   -51697.43    555966.50     -0.981024       0.408444  \n",
       "472194          0  -135574.04    170725.23     -0.804895       0.007653  \n",
       "1636916         0        0.00    187440.96      0.000010       0.770928  \n",
       "...           ...         ...          ...           ...            ...  \n",
       "4611919         0        0.00    164052.05      0.000010       0.135269  \n",
       "5489844         0  -175778.51    175778.51     -0.311215     175.778520  \n",
       "843899          0   -30814.00     71395.90     -0.968567       0.133839  \n",
       "5258622         0        0.00     40433.42      0.000010       0.444690  \n",
       "3633936         0     -858.00    382066.43     -0.461781       0.110809  \n",
       "\n",
       "[1678125 rows x 16 columns]"
      ]
     },
     "execution_count": 322,
     "metadata": {},
     "output_type": "execute_result"
    }
   ],
   "source": [
    "train, test = train_test_split(df[df.CASH_OUT==1])\n",
    "X_train = train.drop(columns=['isFraud','nameDest','nameOrig'])\n",
    "y_train = train['isFraud']\n",
    "X_test = test.drop(columns=['isFraud','nameDest','nameOrig'])\n",
    "y_test = test['isFraud']\n",
    "X_train"
   ]
  },
  {
   "cell_type": "code",
   "execution_count": 323,
   "metadata": {},
   "outputs": [
    {
     "name": "stdout",
     "output_type": "stream",
     "text": [
      "Before OverSampling, counts of label '1': 3091\n",
      "Before OverSampling, counts of label '0': 1675034 \n",
      "\n",
      "After OverSampling, the shape of train_X: (3350068, 16)\n",
      "After OverSampling, the shape of train_y: (3350068,) \n",
      "\n",
      "After OverSampling, counts of label '1': 1675034\n",
      "After OverSampling, counts of label '0': 1675034\n"
     ]
    }
   ],
   "source": [
    "print(\"Before OverSampling, counts of label '1': {}\".format(sum(y_train==1)))\n",
    "print(\"Before OverSampling, counts of label '0': {} \\n\".format(sum(y_train==0)))\n",
    "\n",
    "sm = SMOTE(random_state=2)\n",
    "X_train_res, y_train_res = sm.fit_resample(X_train, y_train.ravel())\n",
    "\n",
    "print('After OverSampling, the shape of train_X: {}'.format(X_train_res.shape))\n",
    "print('After OverSampling, the shape of train_y: {} \\n'.format(y_train_res.shape))\n",
    "\n",
    "print(\"After OverSampling, counts of label '1': {}\".format(sum(y_train_res==1)))\n",
    "print(\"After OverSampling, counts of label '0': {}\".format(sum(y_train_res==0)))"
   ]
  },
  {
   "cell_type": "code",
   "execution_count": 301,
   "metadata": {},
   "outputs": [],
   "source": [
    "lr2 = LogisticRegression(fit_intercept=True, penalty='l2', tol=1e-5, C=20, solver='lbfgs', max_iter=120,\n",
    "                       warm_start=True)\n",
    "lr_default = LogisticRegression()\n"
   ]
  },
  {
   "cell_type": "code",
   "execution_count": 324,
   "metadata": {},
   "outputs": [
    {
     "name": "stdout",
     "output_type": "stream",
     "text": [
      "accuracy in train: 0.9534456610800744\n",
      "accuracy in test: 0.9533175418994413\n"
     ]
    }
   ],
   "source": [
    "\n",
    "lr2.fit(X_train_res, y_train_res)\n",
    "preds_train = lr2.predict(X_train)\n",
    "preds_test = lr2.predict(X_test)\n",
    "print('accuracy in train:', accuracy_score(preds_train, y_train))\n",
    "print('accuracy in test:', accuracy_score(preds_test, y_test))"
   ]
  },
  {
   "cell_type": "code",
   "execution_count": 325,
   "metadata": {},
   "outputs": [
    {
     "data": {
      "text/plain": [
       "Text(0.5, 1.0, 'Train M2 - Accuracy Score: 0.9534456610800744')"
      ]
     },
     "execution_count": 325,
     "metadata": {},
     "output_type": "execute_result"
    },
    {
     "data": {
      "image/png": "[encoded data removed]",
      "text/plain": [
       "<Figure size 648x648 with 2 Axes>"
      ]
     },
     "metadata": {
      "needs_background": "light"
     },
     "output_type": "display_data"
    }
   ],
   "source": [
    "cmtrain2 = metrics.confusion_matrix(preds_train, y_train)\n",
    "plt.figure(figsize=(9,9))\n",
    "sns.heatmap(cm, annot=True, fmt=\".3f\", linewidths=.5, square = True, cmap = 'YlOrBr')\n",
    "plt.ylabel('Actual label')\n",
    "plt.xlabel('Predicted label')\n",
    "all_sample_title = 'Train M2 - Accuracy Score: {0}'.format(accuracy_score(preds_train, y_train))\n",
    "plt.title(all_sample_title, size = 15)"
   ]
  },
  {
   "cell_type": "code",
   "execution_count": 326,
   "metadata": {},
   "outputs": [
    {
     "data": {
      "text/plain": [
       "Text(0.5, 1.0, 'Test M2 - Accuracy Score: 0.9533175418994413')"
      ]
     },
     "execution_count": 326,
     "metadata": {},
     "output_type": "execute_result"
    },
    {
     "data": {
      "image/png": "[encoded data removed]",
      "text/plain": [
       "<Figure size 648x648 with 2 Axes>"
      ]
     },
     "metadata": {
      "needs_background": "light"
     },
     "output_type": "display_data"
    }
   ],
   "source": [
    "cmtest2 = metrics.confusion_matrix(y_test, preds_test)\n",
    "plt.figure(figsize=(9,9))\n",
    "sns.heatmap(cmtest2, annot=True, fmt=\".3f\", linewidths=.5, square = True, cmap = 'Blues_r')\n",
    "plt.ylabel('Actual label')\n",
    "plt.xlabel('Predicted label')\n",
    "all_sample_title = 'Test M2 - Accuracy Score: {0}'.format(accuracy_score(preds_test, y_test))\n",
    "plt.title(all_sample_title, size = 15)"
   ]
  },
  {
   "cell_type": "markdown",
   "metadata": {},
   "source": [
    "# Modelo 3"
   ]
  },
  {
   "cell_type": "code",
   "execution_count": 305,
   "metadata": {},
   "outputs": [
    {
     "data": {
      "text/html": [
       "<div>\n",
       "<style scoped>\n",
       "    .dataframe tbody tr th:only-of-type {\n",
       "        vertical-align: middle;\n",
       "    }\n",
       "\n",
       "    .dataframe tbody tr th {\n",
       "        vertical-align: top;\n",
       "    }\n",
       "\n",
       "    .dataframe thead th {\n",
       "        text-align: right;\n",
       "    }\n",
       "</style>\n",
       "<table border=\"1\" class=\"dataframe\">\n",
       "  <thead>\n",
       "    <tr style=\"text-align: right;\">\n",
       "      <th></th>\n",
       "      <th>step</th>\n",
       "      <th>amount</th>\n",
       "      <th>oldbalanceOrg</th>\n",
       "      <th>newbalanceOrig</th>\n",
       "      <th>oldbalanceDest</th>\n",
       "      <th>newbalanceDest</th>\n",
       "      <th>isFlaggedFraud</th>\n",
       "      <th>CASH_IN</th>\n",
       "      <th>CASH_OUT</th>\n",
       "      <th>DEBIT</th>\n",
       "      <th>PAYMENT</th>\n",
       "      <th>TRANSFER</th>\n",
       "      <th>diffOrigen</th>\n",
       "      <th>diffDestino</th>\n",
       "      <th>cambioOrigen</th>\n",
       "      <th>cambioDestino</th>\n",
       "    </tr>\n",
       "  </thead>\n",
       "  <tbody>\n",
       "    <tr>\n",
       "      <th>1116089</th>\n",
       "      <td>130</td>\n",
       "      <td>125375.05</td>\n",
       "      <td>105706.0</td>\n",
       "      <td>0.0</td>\n",
       "      <td>1613875.77</td>\n",
       "      <td>1739250.82</td>\n",
       "      <td>0</td>\n",
       "      <td>0</td>\n",
       "      <td>0</td>\n",
       "      <td>0</td>\n",
       "      <td>0</td>\n",
       "      <td>1</td>\n",
       "      <td>-105706.0</td>\n",
       "      <td>125375.05</td>\n",
       "      <td>-0.990628</td>\n",
       "      <td>0.077638</td>\n",
       "    </tr>\n",
       "    <tr>\n",
       "      <th>905925</th>\n",
       "      <td>43</td>\n",
       "      <td>936634.70</td>\n",
       "      <td>0.0</td>\n",
       "      <td>0.0</td>\n",
       "      <td>1213441.24</td>\n",
       "      <td>2150075.94</td>\n",
       "      <td>0</td>\n",
       "      <td>0</td>\n",
       "      <td>0</td>\n",
       "      <td>0</td>\n",
       "      <td>0</td>\n",
       "      <td>1</td>\n",
       "      <td>0.0</td>\n",
       "      <td>936634.70</td>\n",
       "      <td>0.000010</td>\n",
       "      <td>0.771247</td>\n",
       "    </tr>\n",
       "    <tr>\n",
       "      <th>2855496</th>\n",
       "      <td>227</td>\n",
       "      <td>883687.53</td>\n",
       "      <td>0.0</td>\n",
       "      <td>0.0</td>\n",
       "      <td>1307195.33</td>\n",
       "      <td>2190882.86</td>\n",
       "      <td>0</td>\n",
       "      <td>0</td>\n",
       "      <td>0</td>\n",
       "      <td>0</td>\n",
       "      <td>0</td>\n",
       "      <td>1</td>\n",
       "      <td>0.0</td>\n",
       "      <td>883687.53</td>\n",
       "      <td>0.000010</td>\n",
       "      <td>0.675501</td>\n",
       "    </tr>\n",
       "    <tr>\n",
       "      <th>2429146</th>\n",
       "      <td>202</td>\n",
       "      <td>318471.60</td>\n",
       "      <td>0.0</td>\n",
       "      <td>0.0</td>\n",
       "      <td>1347329.04</td>\n",
       "      <td>1665800.65</td>\n",
       "      <td>0</td>\n",
       "      <td>0</td>\n",
       "      <td>0</td>\n",
       "      <td>0</td>\n",
       "      <td>0</td>\n",
       "      <td>1</td>\n",
       "      <td>0.0</td>\n",
       "      <td>318471.61</td>\n",
       "      <td>0.000010</td>\n",
       "      <td>0.236197</td>\n",
       "    </tr>\n",
       "    <tr>\n",
       "      <th>201643</th>\n",
       "      <td>13</td>\n",
       "      <td>814319.65</td>\n",
       "      <td>0.0</td>\n",
       "      <td>0.0</td>\n",
       "      <td>70682.41</td>\n",
       "      <td>885002.06</td>\n",
       "      <td>0</td>\n",
       "      <td>0</td>\n",
       "      <td>0</td>\n",
       "      <td>0</td>\n",
       "      <td>0</td>\n",
       "      <td>1</td>\n",
       "      <td>0.0</td>\n",
       "      <td>814319.65</td>\n",
       "      <td>0.000010</td>\n",
       "      <td>11.360104</td>\n",
       "    </tr>\n",
       "    <tr>\n",
       "      <th>...</th>\n",
       "      <td>...</td>\n",
       "      <td>...</td>\n",
       "      <td>...</td>\n",
       "      <td>...</td>\n",
       "      <td>...</td>\n",
       "      <td>...</td>\n",
       "      <td>...</td>\n",
       "      <td>...</td>\n",
       "      <td>...</td>\n",
       "      <td>...</td>\n",
       "      <td>...</td>\n",
       "      <td>...</td>\n",
       "      <td>...</td>\n",
       "      <td>...</td>\n",
       "      <td>...</td>\n",
       "      <td>...</td>\n",
       "    </tr>\n",
       "    <tr>\n",
       "      <th>6146385</th>\n",
       "      <td>546</td>\n",
       "      <td>651964.30</td>\n",
       "      <td>0.0</td>\n",
       "      <td>0.0</td>\n",
       "      <td>6588827.27</td>\n",
       "      <td>7240791.57</td>\n",
       "      <td>0</td>\n",
       "      <td>0</td>\n",
       "      <td>0</td>\n",
       "      <td>0</td>\n",
       "      <td>0</td>\n",
       "      <td>1</td>\n",
       "      <td>0.0</td>\n",
       "      <td>651964.30</td>\n",
       "      <td>0.000010</td>\n",
       "      <td>0.098935</td>\n",
       "    </tr>\n",
       "    <tr>\n",
       "      <th>4355840</th>\n",
       "      <td>309</td>\n",
       "      <td>581133.67</td>\n",
       "      <td>1487.0</td>\n",
       "      <td>0.0</td>\n",
       "      <td>346955.65</td>\n",
       "      <td>928089.32</td>\n",
       "      <td>0</td>\n",
       "      <td>0</td>\n",
       "      <td>0</td>\n",
       "      <td>0</td>\n",
       "      <td>0</td>\n",
       "      <td>1</td>\n",
       "      <td>-1487.0</td>\n",
       "      <td>581133.67</td>\n",
       "      <td>-0.597905</td>\n",
       "      <td>1.670137</td>\n",
       "    </tr>\n",
       "    <tr>\n",
       "      <th>3974707</th>\n",
       "      <td>297</td>\n",
       "      <td>1017297.45</td>\n",
       "      <td>0.0</td>\n",
       "      <td>0.0</td>\n",
       "      <td>1502354.13</td>\n",
       "      <td>2519651.57</td>\n",
       "      <td>0</td>\n",
       "      <td>0</td>\n",
       "      <td>0</td>\n",
       "      <td>0</td>\n",
       "      <td>0</td>\n",
       "      <td>1</td>\n",
       "      <td>0.0</td>\n",
       "      <td>1017297.44</td>\n",
       "      <td>0.000010</td>\n",
       "      <td>0.676685</td>\n",
       "    </tr>\n",
       "    <tr>\n",
       "      <th>305767</th>\n",
       "      <td>16</td>\n",
       "      <td>573056.67</td>\n",
       "      <td>0.0</td>\n",
       "      <td>0.0</td>\n",
       "      <td>2179376.89</td>\n",
       "      <td>2752433.56</td>\n",
       "      <td>0</td>\n",
       "      <td>0</td>\n",
       "      <td>0</td>\n",
       "      <td>0</td>\n",
       "      <td>0</td>\n",
       "      <td>1</td>\n",
       "      <td>0.0</td>\n",
       "      <td>573056.67</td>\n",
       "      <td>0.000010</td>\n",
       "      <td>0.262825</td>\n",
       "    </tr>\n",
       "    <tr>\n",
       "      <th>1035200</th>\n",
       "      <td>93</td>\n",
       "      <td>351841.65</td>\n",
       "      <td>0.0</td>\n",
       "      <td>0.0</td>\n",
       "      <td>462496.98</td>\n",
       "      <td>814338.63</td>\n",
       "      <td>0</td>\n",
       "      <td>0</td>\n",
       "      <td>0</td>\n",
       "      <td>0</td>\n",
       "      <td>0</td>\n",
       "      <td>1</td>\n",
       "      <td>0.0</td>\n",
       "      <td>351841.65</td>\n",
       "      <td>0.000010</td>\n",
       "      <td>0.759102</td>\n",
       "    </tr>\n",
       "  </tbody>\n",
       "</table>\n",
       "<p>399681 rows × 16 columns</p>\n",
       "</div>"
      ],
      "text/plain": [
       "         step      amount  oldbalanceOrg  newbalanceOrig  oldbalanceDest  \\\n",
       "1116089   130   125375.05       105706.0             0.0      1613875.77   \n",
       "905925     43   936634.70            0.0             0.0      1213441.24   \n",
       "2855496   227   883687.53            0.0             0.0      1307195.33   \n",
       "2429146   202   318471.60            0.0             0.0      1347329.04   \n",
       "201643     13   814319.65            0.0             0.0        70682.41   \n",
       "...       ...         ...            ...             ...             ...   \n",
       "6146385   546   651964.30            0.0             0.0      6588827.27   \n",
       "4355840   309   581133.67         1487.0             0.0       346955.65   \n",
       "3974707   297  1017297.45            0.0             0.0      1502354.13   \n",
       "305767     16   573056.67            0.0             0.0      2179376.89   \n",
       "1035200    93   351841.65            0.0             0.0       462496.98   \n",
       "\n",
       "         newbalanceDest  isFlaggedFraud  CASH_IN  CASH_OUT  DEBIT  PAYMENT  \\\n",
       "1116089      1739250.82               0        0         0      0        0   \n",
       "905925       2150075.94               0        0         0      0        0   \n",
       "2855496      2190882.86               0        0         0      0        0   \n",
       "2429146      1665800.65               0        0         0      0        0   \n",
       "201643        885002.06               0        0         0      0        0   \n",
       "...                 ...             ...      ...       ...    ...      ...   \n",
       "6146385      7240791.57               0        0         0      0        0   \n",
       "4355840       928089.32               0        0         0      0        0   \n",
       "3974707      2519651.57               0        0         0      0        0   \n",
       "305767       2752433.56               0        0         0      0        0   \n",
       "1035200       814338.63               0        0         0      0        0   \n",
       "\n",
       "         TRANSFER  diffOrigen  diffDestino  cambioOrigen  cambioDestino  \n",
       "1116089         1   -105706.0    125375.05     -0.990628       0.077638  \n",
       "905925          1         0.0    936634.70      0.000010       0.771247  \n",
       "2855496         1         0.0    883687.53      0.000010       0.675501  \n",
       "2429146         1         0.0    318471.61      0.000010       0.236197  \n",
       "201643          1         0.0    814319.65      0.000010      11.360104  \n",
       "...           ...         ...          ...           ...            ...  \n",
       "6146385         1         0.0    651964.30      0.000010       0.098935  \n",
       "4355840         1     -1487.0    581133.67     -0.597905       1.670137  \n",
       "3974707         1         0.0   1017297.44      0.000010       0.676685  \n",
       "305767          1         0.0    573056.67      0.000010       0.262825  \n",
       "1035200         1         0.0    351841.65      0.000010       0.759102  \n",
       "\n",
       "[399681 rows x 16 columns]"
      ]
     },
     "execution_count": 305,
     "metadata": {},
     "output_type": "execute_result"
    }
   ],
   "source": [
    "train, test = train_test_split(df[df.TRANSFER==1])\n",
    "X_train = train.drop(columns=['isFraud','nameDest','nameOrig'])\n",
    "y_train = train['isFraud']\n",
    "X_test = test.drop(columns=['isFraud','nameDest','nameOrig'])\n",
    "y_test = test['isFraud']\n",
    "X_train"
   ]
  },
  {
   "cell_type": "code",
   "execution_count": 306,
   "metadata": {},
   "outputs": [
    {
     "name": "stdout",
     "output_type": "stream",
     "text": [
      "Before OverSampling, counts of label '1': 3070\n",
      "Before OverSampling, counts of label '0': 396611 \n",
      "\n",
      "After OverSampling, the shape of train_X: (793222, 16)\n",
      "After OverSampling, the shape of train_y: (793222,) \n",
      "\n",
      "After OverSampling, counts of label '1': 396611\n",
      "After OverSampling, counts of label '0': 396611\n"
     ]
    }
   ],
   "source": [
    "print(\"Before OverSampling, counts of label '1': {}\".format(sum(y_train==1)))\n",
    "print(\"Before OverSampling, counts of label '0': {} \\n\".format(sum(y_train==0)))\n",
    "\n",
    "sm = SMOTE(random_state=2)\n",
    "X_train_res, y_train_res = sm.fit_resample(X_train, y_train.ravel())\n",
    "\n",
    "print('After OverSampling, the shape of train_X: {}'.format(X_train_res.shape))\n",
    "print('After OverSampling, the shape of train_y: {} \\n'.format(y_train_res.shape))\n",
    "\n",
    "print(\"After OverSampling, counts of label '1': {}\".format(sum(y_train_res==1)))\n",
    "print(\"After OverSampling, counts of label '0': {}\".format(sum(y_train_res==0)))"
   ]
  },
  {
   "cell_type": "code",
   "execution_count": 307,
   "metadata": {},
   "outputs": [],
   "source": [
    "lr3 = LogisticRegression(fit_intercept=True, penalty='l2', tol=1e-5, C=20, solver='lbfgs', max_iter=120,\n",
    "                       warm_start=True)\n",
    "lr_default = LogisticRegression()\n"
   ]
  },
  {
   "cell_type": "code",
   "execution_count": 308,
   "metadata": {},
   "outputs": [
    {
     "name": "stdout",
     "output_type": "stream",
     "text": [
      "accuracy in train: 0.9784002742186894\n",
      "accuracy in test: 0.9781202149698262\n"
     ]
    }
   ],
   "source": [
    "\n",
    "lr3.fit(X_train_res, y_train_res)\n",
    "preds_train = lr3.predict(X_train)\n",
    "preds_test = lr3.predict(X_test)\n",
    "print('accuracy in train:', accuracy_score(preds_train, y_train))\n",
    "print('accuracy in test:', accuracy_score(preds_test, y_test))"
   ]
  },
  {
   "cell_type": "code",
   "execution_count": 309,
   "metadata": {},
   "outputs": [
    {
     "data": {
      "text/plain": [
       "Text(0.5, 1.0, 'Train M3 - Accuracy Score: 0.9784002742186894')"
      ]
     },
     "execution_count": 309,
     "metadata": {},
     "output_type": "execute_result"
    },
    {
     "data": {
      "image/png": "[encoded data removed]",
      "text/plain": [
       "<Figure size 648x648 with 2 Axes>"
      ]
     },
     "metadata": {
      "needs_background": "light"
     },
     "output_type": "display_data"
    }
   ],
   "source": [
    "cmtrain3 = metrics.confusion_matrix(preds_train, y_train)\n",
    "plt.figure(figsize=(9,9))\n",
    "sns.heatmap(cmtrain3, annot=True, fmt=\".3f\", linewidths=.5, square = True, cmap = 'YlOrBr')\n",
    "plt.ylabel('Actual label')\n",
    "plt.xlabel('Predicted label')\n",
    "all_sample_title = 'Train M3 - Accuracy Score: {0}'.format(accuracy_score(preds_train, y_train))\n",
    "plt.title(all_sample_title, size = 15)"
   ]
  },
  {
   "cell_type": "code",
   "execution_count": 310,
   "metadata": {},
   "outputs": [
    {
     "data": {
      "text/plain": [
       "Text(0.5, 1.0, 'Test M3 - Accuracy Score: 0.9781202149698262')"
      ]
     },
     "execution_count": 310,
     "metadata": {},
     "output_type": "execute_result"
    },
    {
     "data": {
      "image/png": "[encoded data removed]",
      "text/plain": [
       "<Figure size 648x648 with 2 Axes>"
      ]
     },
     "metadata": {
      "needs_background": "light"
     },
     "output_type": "display_data"
    }
   ],
   "source": [
    "cmtest3 = metrics.confusion_matrix(y_test, preds_test)\n",
    "plt.figure(figsize=(9,9))\n",
    "sns.heatmap(cmtest3, annot=True, fmt=\".3f\", linewidths=.5, square = True, cmap = 'Blues_r')\n",
    "plt.ylabel('Actual label')\n",
    "plt.xlabel('Predicted label')\n",
    "all_sample_title = 'Test M3 - Accuracy Score: {0}'.format(accuracy_score(preds_test, y_test))\n",
    "plt.title(all_sample_title, size = 15)"
   ]
  },
  {
   "cell_type": "markdown",
   "metadata": {},
   "source": [
    "# Modelo 2 + 3"
   ]
  },
  {
   "cell_type": "code",
   "execution_count": 311,
   "metadata": {},
   "outputs": [
    {
     "data": {
      "text/plain": [
       "Text(0.5, 1.0, 'CM Modelos 2 y 3')"
      ]
     },
     "execution_count": 311,
     "metadata": {},
     "output_type": "execute_result"
    },
    {
     "data": {
      "image/png": "[encoded data removed]",
      "text/plain": [
       "<Figure size 648x648 with 2 Axes>"
      ]
     },
     "metadata": {
      "needs_background": "light"
     },
     "output_type": "display_data"
    }
   ],
   "source": [
    "plt.figure(figsize=(9,9))\n",
    "sns.heatmap(cmtest3+cmtest2, annot=True, fmt=\".3f\", linewidths=.5, square = True, cmap = 'Blues_r')\n",
    "plt.ylabel('Actual label')\n",
    "plt.xlabel('Predicted label')\n",
    "all_sample_title = ('CM Modelos 2 y 3')\n",
    "plt.title(all_sample_title, size = 15)"
   ]
  },
  {
   "cell_type": "markdown",
   "metadata": {},
   "source": [
    "# Análisis resultados"
   ]
  },
  {
   "cell_type": "code",
   "execution_count": 327,
   "metadata": {},
   "outputs": [],
   "source": [
    "clrs = ['firebrick','royalblue','khaki','limegreen']"
   ]
  },
  {
   "cell_type": "code",
   "execution_count": 350,
   "metadata": {},
   "outputs": [],
   "source": [
    "cmtest23=cmtest2+cmtest3\n",
    "TP1 = cmtest1[1][1]/(cmtest1[1][0]+cmtest1[1][1])\n",
    "TP2 = cmtest2[1][1]/(cmtest2[1][0]+cmtest2[1][1])\n",
    "TP3 = cmtest3[1][1]/(cmtest3[1][0]+cmtest3[1][1])\n",
    "TP23 = cmtest23[1][1]/(cmtest23[1][0]+cmtest23[1][1])"
   ]
  },
  {
   "cell_type": "code",
   "execution_count": 351,
   "metadata": {},
   "outputs": [
    {
     "data": {
      "image/png": "[encoded data removed]",
      "text/plain": [
       "<Figure size 432x288 with 1 Axes>"
      ]
     },
     "metadata": {
      "needs_background": "light"
     },
     "output_type": "display_data"
    }
   ],
   "source": [
    "fig = plt.figure()\n",
    "ax = fig.add_axes([0,0,1,1])\n",
    "names = ['TP1', 'TP2', 'TP3', 'TP23']\n",
    "values = [TP1,TP2,TP3,TP23]\n",
    "ax.bar(names,values, color=clrs)\n",
    "ax.set_title('TP rate')\n",
    "plt.show()"
   ]
  },
  {
   "cell_type": "code",
   "execution_count": 353,
   "metadata": {},
   "outputs": [],
   "source": [
    "FN1 = cmtest1[1][0]/(cmtest1[1][0]+cmtest1[1][1])\n",
    "FN2 = cmtest2[1][0]/(cmtest2[1][0]+cmtest2[1][1])\n",
    "FN3 = cmtest3[1][0]/(cmtest3[1][0]+cmtest3[1][1])\n",
    "FN23 = cmtest23[1][0]/(cmtest23[1][0]+cmtest23[1][1])"
   ]
  },
  {
   "cell_type": "code",
   "execution_count": 343,
   "metadata": {},
   "outputs": [
    {
     "data": {
      "image/png": "[encoded data removed]",
      "text/plain": [
       "<Figure size 432x288 with 1 Axes>"
      ]
     },
     "metadata": {
      "needs_background": "light"
     },
     "output_type": "display_data"
    }
   ],
   "source": [
    "fig = plt.figure()\n",
    "ax = fig.add_axes([0,0,1,1])\n",
    "names = ['FN1', 'FN2', 'FN3', 'FN23']\n",
    "values = [FN1,FN2,FN3,FN23]\n",
    "ax.bar(names,values, color=clrs)\n",
    "ax.set_title('FN rate')\n",
    "plt.show()"
   ]
  },
  {
   "cell_type": "code",
   "execution_count": 345,
   "metadata": {},
   "outputs": [],
   "source": [
    "TN1 = cmtest1[0][0]/(cmtest1[0][1]+cmtest1[0][0])\n",
    "TN2 = cmtest2[0][0]/(cmtest2[0][1]+cmtest2[0][0])\n",
    "TN3 = cmtest3[0][0]/(cmtest3[0][1]+cmtest3[0][0])\n",
    "TN23 = cmtest23[0][0]/(cmtest23[0][1]+cmtest23[0][0])"
   ]
  },
  {
   "cell_type": "code",
   "execution_count": 346,
   "metadata": {},
   "outputs": [
    {
     "data": {
      "image/png": "[encoded data removed]",
      "text/plain": [
       "<Figure size 432x288 with 1 Axes>"
      ]
     },
     "metadata": {
      "needs_background": "light"
     },
     "output_type": "display_data"
    }
   ],
   "source": [
    "fig = plt.figure()\n",
    "ax = fig.add_axes([0,0,1,1])\n",
    "names = ['TN1', 'TN2', 'TN3', 'TN23']\n",
    "values = [TN1,TN2,TN3,TN23]\n",
    "ax.bar(names,values, color=clrs)\n",
    "ax.set_title('TN rate')\n",
    "plt.show()"
   ]
  },
  {
   "cell_type": "code",
   "execution_count": 347,
   "metadata": {},
   "outputs": [],
   "source": [
    "FP1 = cmtest1[0][1]/(cmtest1[0][1]+cmtest1[0][0])\n",
    "FP2 = cmtest2[0][1]/(cmtest2[0][1]+cmtest2[0][0])\n",
    "FP3 = cmtest3[0][1]/(cmtest3[0][1]+cmtest3[0][0])\n",
    "FP23 = cmtest23[0][1]/(cmtest23[0][1]+cmtest23[0][0])"
   ]
  },
  {
   "cell_type": "code",
   "execution_count": 348,
   "metadata": {},
   "outputs": [
    {
     "data": {
      "image/png": "[encoded data removed]",
      "text/plain": [
       "<Figure size 432x288 with 1 Axes>"
      ]
     },
     "metadata": {
      "needs_background": "light"
     },
     "output_type": "display_data"
    }
   ],
   "source": [
    "fig = plt.figure()\n",
    "ax = fig.add_axes([0,0,1,1])\n",
    "names = ['FP1', 'FP2', 'FP3', 'FP23']\n",
    "values = [FP1,FP2,FP3,FP23]\n",
    "ax.bar(names,values, color=clrs)\n",
    "ax.set_title('FP rate')\n",
    "plt.show()"
   ]
  },
  {
   "cell_type": "code",
   "execution_count": 356,
   "metadata": {},
   "outputs": [
    {
     "data": {
      "text/plain": [
       "Text(0.5, 1.0, 'CM Modelos 2 y 3 - SENSIBILIDAD')"
      ]
     },
     "execution_count": 356,
     "metadata": {},
     "output_type": "execute_result"
    },
    {
     "data": {
      "image/png": "[encoded data removed]",
      "text/plain": [
       "<Figure size 648x648 with 2 Axes>"
      ]
     },
     "metadata": {
      "needs_background": "light"
     },
     "output_type": "display_data"
    }
   ],
   "source": [
    "plt.figure(figsize=(9,9))\n",
    "sns.heatmap([[TN23,FP23],[FN23,TP23]], annot=True, fmt=\".3f\", linewidths=.5, square = True, cmap = 'RdYlGn')\n",
    "plt.ylabel('Actual label')\n",
    "plt.xlabel('Predicted label')\n",
    "all_sample_title = ('CM Modelos 2 y 3 - SENSIBILIDAD')\n",
    "plt.title(all_sample_title, size = 15)"
   ]
  }
 ],
 "metadata": {
  "interpreter": {
   "hash": "001dc6451943b644798834ea4a8281ea1eb522b978c4c763cc6c7a75e5e863c3"
  },
  "kernelspec": {
   "display_name": "Python 3.8.8 64-bit ('base': conda)",
   "name": "python3"
  },
  "language_info": {
   "codemirror_mode": {
    "name": "ipython",
    "version": 3
   },
   "file_extension": ".py",
   "mimetype": "text/x-python",
   "name": "python",
   "nbconvert_exporter": "python",
   "pygments_lexer": "ipython3",
   "version": "3.8.8"
  }
 },
 "nbformat": 4,
 "nbformat_minor": 5
}
