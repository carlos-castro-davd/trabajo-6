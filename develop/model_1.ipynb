{
 "cells": [
  {
   "cell_type": "markdown",
   "id": "excellent-politics",
   "metadata": {},
   "source": [
    "# Modelo 1\n",
    "-----\n",
    "## Modelo clasificador basado en técnicas lineales & árboles de decisión. \n",
    "Utilizaremos este modelo como base de comparación con modelos posteriores más complejos. \n",
    "\n",
    "Nos servirá este modelo también para detectar las variables más significativas para la detección de fraudes.\n",
    "\n",
    "La entrada de este modelo será el dataset 'prepared' con los datos ya preparados para su consumición."
   ]
  },
  {
   "cell_type": "code",
   "execution_count": null,
   "id": "graphic-arlington",
   "metadata": {},
   "outputs": [],
   "source": []
  }
 ],
 "metadata": {
  "kernelspec": {
   "display_name": "Python 3",
   "language": "python",
   "name": "python3"
  },
  "language_info": {
   "codemirror_mode": {
    "name": "ipython",
    "version": 3
   },
   "file_extension": ".py",
   "mimetype": "text/x-python",
   "name": "python",
   "nbconvert_exporter": "python",
   "pygments_lexer": "ipython3",
   "version": "3.8.5"
  }
 },
 "nbformat": 4,
 "nbformat_minor": 5
}
