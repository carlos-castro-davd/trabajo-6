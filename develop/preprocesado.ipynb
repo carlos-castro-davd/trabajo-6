{
 "cells": [
  {
   "cell_type": "code",
   "execution_count": 1,
   "id": "positive-pastor",
   "metadata": {},
   "outputs": [],
   "source": [
    "import numpy as np\n",
    "import pandas as pd"
   ]
  },
  {
   "cell_type": "markdown",
   "id": "jewish-reputation",
   "metadata": {},
   "source": [
    "### Este notebook auna todo el preprocesado necesario para transformar los datos de la carpeta RAW a PREPARED:"
   ]
  },
  {
   "cell_type": "code",
   "execution_count": 2,
   "id": "casual-houston",
   "metadata": {},
   "outputs": [],
   "source": [
    "path_in  = \"../raw/trabajo6.csv\"\n",
    "path_out = \"../partitioned/\"\n",
    "path_out_csv = \"../partitioned/mini.csv\""
   ]
  },
  {
   "cell_type": "code",
   "execution_count": 3,
   "id": "editorial-dealing",
   "metadata": {},
   "outputs": [],
   "source": [
    "df = pd.read_csv(path_in)"
   ]
  },
  {
   "cell_type": "markdown",
   "id": "lonely-cycling",
   "metadata": {},
   "source": [
    "### One Hot Encoding"
   ]
  },
  {
   "cell_type": "code",
   "execution_count": 4,
   "id": "successful-center",
   "metadata": {},
   "outputs": [],
   "source": [
    "df = df.join(pd.get_dummies(df['type']))"
   ]
  },
  {
   "cell_type": "markdown",
   "id": "useful-arbitration",
   "metadata": {},
   "source": [
    "### Nuevas variables"
   ]
  },
  {
   "cell_type": "code",
   "execution_count": 5,
   "id": "neural-elimination",
   "metadata": {},
   "outputs": [],
   "source": [
    "df['diffOrigen'] = df['newbalanceOrig'] - df['oldbalanceOrg']\n",
    "df['diffDestino'] = df['newbalanceDest'] - df['oldbalanceDest']\n",
    "\n",
    "mean_oldOrg  = df['oldbalanceOrg'].mean()\n",
    "mean_oldDest = df['oldbalanceDest'].mean()\n",
    "\n",
    "# Para evitar NaN. No afecta la distribución de los datos.\n",
    "df['cambioOrigen'] = (df['diffOrigen'] + 0.01)/(df['oldbalanceOrg'] + 1e3)\n",
    "df['cambioDestino'] = (df['diffDestino'] + 0.01)/(df['oldbalanceDest'] + 1e3)"
   ]
  },
  {
   "cell_type": "markdown",
   "id": "developmental-conspiracy",
   "metadata": {},
   "source": [
    "### Particionamos el dataset en 12 partes:"
   ]
  },
  {
   "cell_type": "code",
   "execution_count": 6,
   "id": "modified-mixture",
   "metadata": {},
   "outputs": [],
   "source": [
    "df['partition'] = np.random.randint(12, size=len(df))"
   ]
  },
  {
   "cell_type": "code",
   "execution_count": 7,
   "id": "activated-riverside",
   "metadata": {},
   "outputs": [
    {
     "data": {
      "text/plain": [
       "11    531233\n",
       "0     530928\n",
       "6     530550\n",
       "7     530454\n",
       "9     530364\n",
       "2     530328\n",
       "8     529939\n",
       "4     529891\n",
       "1     529856\n",
       "3     529830\n",
       "10    529790\n",
       "5     529457\n",
       "Name: partition, dtype: int64"
      ]
     },
     "execution_count": 7,
     "metadata": {},
     "output_type": "execute_result"
    }
   ],
   "source": [
    "df.partition.value_counts()"
   ]
  },
  {
   "cell_type": "markdown",
   "id": "electric-gamma",
   "metadata": {},
   "source": [
    "### Write Prepared"
   ]
  },
  {
   "cell_type": "code",
   "execution_count": 8,
   "id": "running-transformation",
   "metadata": {},
   "outputs": [],
   "source": [
    "# Necesita paquete 'pyarrow'"
   ]
  },
  {
   "cell_type": "code",
   "execution_count": 9,
   "id": "hawaiian-executive",
   "metadata": {},
   "outputs": [],
   "source": [
    "df.to_parquet(path_out, partition_cols='partition', compression='snappy')"
   ]
  },
  {
   "cell_type": "code",
   "execution_count": 4,
   "id": "deadly-endorsement",
   "metadata": {},
   "outputs": [],
   "source": [
    "# Para leer el parquet:\n",
    "p_df = pd.read_parquet(path_out).drop(columns=['partition'])"
   ]
  },
  {
   "cell_type": "code",
   "execution_count": 10,
   "id": "serious-acoustic",
   "metadata": {},
   "outputs": [],
   "source": [
    "df[df.partition == 0].to_csv(path_out_csv)"
   ]
  },
  {
   "cell_type": "code",
   "execution_count": null,
   "id": "promising-default",
   "metadata": {},
   "outputs": [],
   "source": []
  }
 ],
 "metadata": {
  "kernelspec": {
   "display_name": "Python 3",
   "language": "python",
   "name": "python3"
  },
  "language_info": {
   "codemirror_mode": {
    "name": "ipython",
    "version": 3
   },
   "file_extension": ".py",
   "mimetype": "text/x-python",
   "name": "python",
   "nbconvert_exporter": "python",
   "pygments_lexer": "ipython3",
   "version": "3.9.1"
  }
 },
 "nbformat": 4,
 "nbformat_minor": 5
}
