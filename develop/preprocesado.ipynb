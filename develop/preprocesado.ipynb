{
 "cells": [
  {
   "cell_type": "code",
   "execution_count": 1,
   "id": "positive-pastor",
   "metadata": {},
   "outputs": [],
   "source": [
    "import numpy as np\n",
    "import pandas as pd"
   ]
  },
  {
   "cell_type": "markdown",
   "id": "jewish-reputation",
   "metadata": {},
   "source": [
    "### Este notebook auna todo el preprocesado necesario para transformar los datos de la carpeta RAW a PREPARED:"
   ]
  },
  {
   "cell_type": "code",
   "execution_count": 3,
   "id": "casual-houston",
   "metadata": {},
   "outputs": [],
   "source": [
    "path_in  = \"../raw/trabajo6.csv\"\n",
    "path_out = \"../prep/prepared.snappy.parquet\""
   ]
  },
  {
   "cell_type": "code",
   "execution_count": 4,
   "id": "editorial-dealing",
   "metadata": {},
   "outputs": [],
   "source": [
    "df = pd.read_csv(path_in)"
   ]
  },
  {
   "cell_type": "markdown",
   "id": "lonely-cycling",
   "metadata": {},
   "source": [
    "### One Hot Encoding"
   ]
  },
  {
   "cell_type": "code",
   "execution_count": 5,
   "id": "successful-center",
   "metadata": {},
   "outputs": [],
   "source": [
    "df = df.join(pd.get_dummies(df['type'])).drop(columns=['type'])"
   ]
  },
  {
   "cell_type": "markdown",
   "id": "useful-arbitration",
   "metadata": {},
   "source": [
    "### Nuevas variables"
   ]
  },
  {
   "cell_type": "code",
   "execution_count": 6,
   "id": "neural-elimination",
   "metadata": {},
   "outputs": [],
   "source": [
    "df['diffOrigen'] = df['newbalanceOrig'] - df['oldbalanceOrg']\n",
    "df['diffDestino'] = df['newbalanceDest'] - df['oldbalanceDest']\n",
    "\n",
    "mean_oldOrg  = df['oldbalanceOrg'].mean()\n",
    "mean_oldDest = df['oldbalanceDest'].mean()\n",
    "\n",
    "# Para evitar NaN. No afecta la distribución de los datos.\n",
    "df['cambioOrigen'] = (df['diffOrigen'] + 0.01)/(df['oldbalanceOrg'] + 1e3)\n",
    "df['cambioDestino'] = (df['diffDestino'] + 0.01)/(df['oldbalanceDest'] + 1e3)"
   ]
  },
  {
   "cell_type": "markdown",
   "id": "electric-gamma",
   "metadata": {},
   "source": [
    "### Write Prepared"
   ]
  },
  {
   "cell_type": "code",
   "execution_count": 6,
   "id": "hawaiian-executive",
   "metadata": {},
   "outputs": [],
   "source": [
    "df.to_parquet(path_out)"
   ]
  },
  {
   "cell_type": "code",
   "execution_count": null,
   "id": "latter-advance",
   "metadata": {},
   "outputs": [],
   "source": []
  }
 ],
 "metadata": {
  "kernelspec": {
   "display_name": "Python 3",
   "language": "python",
   "name": "python3"
  },
  "language_info": {
   "codemirror_mode": {
    "name": "ipython",
    "version": 3
   },
   "file_extension": ".py",
   "mimetype": "text/x-python",
   "name": "python",
   "nbconvert_exporter": "python",
   "pygments_lexer": "ipython3",
   "version": "3.8.5"
  }
 },
 "nbformat": 4,
 "nbformat_minor": 5
}
