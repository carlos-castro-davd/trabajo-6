{
 "cells": [
  {
   "cell_type": "code",
   "execution_count": 31,
   "id": "positive-pastor",
   "metadata": {},
   "outputs": [],
   "source": [
    "import numpy as np\n",
    "import pandas as pd"
   ]
  },
  {
   "cell_type": "markdown",
   "id": "jewish-reputation",
   "metadata": {},
   "source": [
    "### Este notebook auna todo el preprocesado necesario para transformar los datos de la carpeta RAW a PREPARED:"
   ]
  },
  {
   "cell_type": "code",
   "execution_count": 32,
   "id": "casual-houston",
   "metadata": {},
   "outputs": [],
   "source": [
    "path_in  = \"../raw/trabajo6.csv\"\n",
    "path_out = \"../partitioned/\""
   ]
  },
  {
   "cell_type": "code",
   "execution_count": 44,
   "id": "editorial-dealing",
   "metadata": {},
   "outputs": [],
   "source": [
    "df = pd.read_csv(path_in)"
   ]
  },
  {
   "cell_type": "markdown",
   "id": "lonely-cycling",
   "metadata": {},
   "source": [
    "### One Hot Encoding"
   ]
  },
  {
   "cell_type": "code",
   "execution_count": 34,
   "id": "successful-center",
   "metadata": {},
   "outputs": [],
   "source": [
    "df = df.join(pd.get_dummies(df['type']))"
   ]
  },
  {
   "cell_type": "markdown",
   "id": "useful-arbitration",
   "metadata": {},
   "source": [
    "### Nuevas variables"
   ]
  },
  {
   "cell_type": "code",
   "execution_count": 35,
   "id": "neural-elimination",
   "metadata": {},
   "outputs": [],
   "source": [
    "df['diffOrigen'] = df['newbalanceOrig'] - df['oldbalanceOrg']\n",
    "df['diffDestino'] = df['newbalanceDest'] - df['oldbalanceDest']\n",
    "\n",
    "mean_oldOrg  = df['oldbalanceOrg'].mean()\n",
    "mean_oldDest = df['oldbalanceDest'].mean()\n",
    "\n",
    "# Para evitar NaN. No afecta la distribución de los datos.\n",
    "df['cambioOrigen'] = (df['diffOrigen'] + 0.01)/(df['oldbalanceOrg'] + 1e3)\n",
    "df['cambioDestino'] = (df['diffDestino'] + 0.01)/(df['oldbalanceDest'] + 1e3)"
   ]
  },
  {
   "cell_type": "markdown",
   "id": "induced-invalid",
   "metadata": {},
   "source": [
    "### Particionamos el dataset en 12 partes:"
   ]
  },
  {
   "cell_type": "code",
   "execution_count": 36,
   "id": "charming-mount",
   "metadata": {},
   "outputs": [],
   "source": [
    "df['partition'] = np.random.randint(12, size=len(df))"
   ]
  },
  {
   "cell_type": "code",
   "execution_count": 37,
   "id": "eight-polish",
   "metadata": {},
   "outputs": [
    {
     "data": {
      "text/plain": [
       "3     531487\n",
       "1     531019\n",
       "0     530594\n",
       "8     530453\n",
       "7     530403\n",
       "2     530290\n",
       "11    529943\n",
       "6     529904\n",
       "5     529809\n",
       "4     529762\n",
       "10    529683\n",
       "9     529273\n",
       "Name: partition, dtype: int64"
      ]
     },
     "execution_count": 37,
     "metadata": {},
     "output_type": "execute_result"
    }
   ],
   "source": [
    "df.partition.value_counts()"
   ]
  },
  {
   "cell_type": "markdown",
   "id": "electric-gamma",
   "metadata": {},
   "source": [
    "### Write Prepared"
   ]
  },
  {
   "cell_type": "code",
   "execution_count": 38,
   "id": "opened-aviation",
   "metadata": {},
   "outputs": [],
   "source": [
    "# Necesita paquete 'pyarrow'"
   ]
  },
  {
   "cell_type": "code",
   "execution_count": 39,
   "id": "hawaiian-executive",
   "metadata": {},
   "outputs": [],
   "source": [
    "df.to_parquet(path_out, partition_cols='partition', compression='snappy')"
   ]
  },
  {
   "cell_type": "code",
   "execution_count": 24,
   "id": "outstanding-first",
   "metadata": {},
   "outputs": [],
   "source": [
    "# Para leer el parquet:\n",
    "p_df = pd.read_parquet(path_out).drop(columns=['partition'])"
   ]
  },
  {
   "cell_type": "code",
   "execution_count": 41,
   "id": "historic-federation",
   "metadata": {},
   "outputs": [
    {
     "data": {
      "text/plain": [
       "['PAYMENT', 'TRANSFER', 'CASH_OUT', 'DEBIT', 'CASH_IN']"
      ]
     },
     "execution_count": 41,
     "metadata": {},
     "output_type": "execute_result"
    }
   ],
   "source": [
    "df.type.unique().tolist()"
   ]
  },
  {
   "cell_type": "code",
   "execution_count": 51,
   "id": "stretch-rotation",
   "metadata": {
    "scrolled": false
   },
   "outputs": [],
   "source": [
    "data = df[(df.type == 'TRANSFER') & (df.oldbalanceOrg != 0) & (df.newbalanceOrig != 0) & (df.oldbalanceDest != 0) & (df.newbalanceDest != 0)]\n",
    "data_fraud = data[data.isFraud == 1]"
   ]
  },
  {
   "cell_type": "code",
   "execution_count": 52,
   "id": "raising-kitty",
   "metadata": {},
   "outputs": [
    {
     "data": {
      "text/html": [
       "<div>\n",
       "<style scoped>\n",
       "    .dataframe tbody tr th:only-of-type {\n",
       "        vertical-align: middle;\n",
       "    }\n",
       "\n",
       "    .dataframe tbody tr th {\n",
       "        vertical-align: top;\n",
       "    }\n",
       "\n",
       "    .dataframe thead th {\n",
       "        text-align: right;\n",
       "    }\n",
       "</style>\n",
       "<table border=\"1\" class=\"dataframe\">\n",
       "  <thead>\n",
       "    <tr style=\"text-align: right;\">\n",
       "      <th></th>\n",
       "      <th>step</th>\n",
       "      <th>type</th>\n",
       "      <th>amount</th>\n",
       "      <th>nameOrig</th>\n",
       "      <th>oldbalanceOrg</th>\n",
       "      <th>newbalanceOrig</th>\n",
       "      <th>nameDest</th>\n",
       "      <th>oldbalanceDest</th>\n",
       "      <th>newbalanceDest</th>\n",
       "      <th>isFraud</th>\n",
       "      <th>isFlaggedFraud</th>\n",
       "    </tr>\n",
       "  </thead>\n",
       "  <tbody>\n",
       "    <tr>\n",
       "      <th>60853</th>\n",
       "      <td>9</td>\n",
       "      <td>TRANSFER</td>\n",
       "      <td>994453.2</td>\n",
       "      <td>C1121789613</td>\n",
       "      <td>1437370.87</td>\n",
       "      <td>442917.67</td>\n",
       "      <td>C254839817</td>\n",
       "      <td>194812.76</td>\n",
       "      <td>665743.67</td>\n",
       "      <td>1</td>\n",
       "      <td>0</td>\n",
       "    </tr>\n",
       "  </tbody>\n",
       "</table>\n",
       "</div>"
      ],
      "text/plain": [
       "       step      type    amount     nameOrig  oldbalanceOrg  newbalanceOrig  \\\n",
       "60853     9  TRANSFER  994453.2  C1121789613     1437370.87       442917.67   \n",
       "\n",
       "         nameDest  oldbalanceDest  newbalanceDest  isFraud  isFlaggedFraud  \n",
       "60853  C254839817       194812.76       665743.67        1               0  "
      ]
     },
     "execution_count": 52,
     "metadata": {},
     "output_type": "execute_result"
    }
   ],
   "source": [
    "data_fraud"
   ]
  },
  {
   "cell_type": "code",
   "execution_count": 66,
   "id": "sized-roller",
   "metadata": {},
   "outputs": [
    {
     "data": {
      "text/plain": [
       "4116"
      ]
     },
     "execution_count": 66,
     "metadata": {},
     "output_type": "execute_result"
    }
   ],
   "source": [
    "df[(df.type == 'CASH_OUT')].value_counts('isFraud')[1]"
   ]
  },
  {
   "cell_type": "code",
   "execution_count": 67,
   "id": "protective-complement",
   "metadata": {},
   "outputs": [],
   "source": [
    "dicc = {\"juan\":\"es tonto\"}"
   ]
  },
  {
   "cell_type": "code",
   "execution_count": 69,
   "id": "partial-income",
   "metadata": {},
   "outputs": [
    {
     "data": {
      "text/plain": [
       "'es tonto'"
      ]
     },
     "execution_count": 69,
     "metadata": {},
     "output_type": "execute_result"
    }
   ],
   "source": [
    "dicc['juan']"
   ]
  },
  {
   "cell_type": "code",
   "execution_count": null,
   "id": "republican-jonathan",
   "metadata": {},
   "outputs": [],
   "source": []
  }
 ],
 "metadata": {
  "kernelspec": {
   "display_name": "Python 3",
   "language": "python",
   "name": "python3"
  },
  "language_info": {
   "codemirror_mode": {
    "name": "ipython",
    "version": 3
   },
   "file_extension": ".py",
   "mimetype": "text/x-python",
   "name": "python",
   "nbconvert_exporter": "python",
   "pygments_lexer": "ipython3",
   "version": "3.9.1"
  }
 },
 "nbformat": 4,
 "nbformat_minor": 5
}
